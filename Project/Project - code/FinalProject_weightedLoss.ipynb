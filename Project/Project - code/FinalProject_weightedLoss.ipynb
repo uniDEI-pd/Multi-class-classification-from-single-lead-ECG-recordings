{
 "cells": [
  {
   "cell_type": "markdown",
   "metadata": {},
   "source": [
    "# HDA - Final Project\n",
    "## Project #4, ECG classification\n"
   ]
  },
  {
   "cell_type": "code",
   "execution_count": 1,
   "metadata": {},
   "outputs": [],
   "source": [
    "import pandas as pd\n",
    "import tensorflow as tf\n",
    "import numpy as np\n",
    "import sys\n",
    "np.set_printoptions(threshold=sys.maxsize)\n",
    "import time\n",
    "import os\n",
    "import zipfile\n",
    "from scipy.signal import medfilt\n",
    "from tqdm import tqdm\n",
    "from scipy.io import loadmat\n",
    "from pathlib import Path\n",
    "from sklearn.model_selection import train_test_split\n",
    "from sklearn.metrics import precision_recall_fscore_support, roc_curve, auc, accuracy_score, precision_recall_curve\n",
    "import matplotlib.pyplot as plt\n",
    "from sklearn.utils import class_weight\n",
    "\n",
    "import matplotlib as mpl\n",
    "mpl.rcParams['figure.figsize'] = (16,10)\n",
    "mpl.rcParams['axes.grid'] = True\n",
    "mpl.rcParams['legend.fontsize'] = 'large'"
   ]
  },
  {
   "cell_type": "markdown",
   "metadata": {},
   "source": [
    "# Data processing\n",
    "\n",
    "## Extract data from the file"
   ]
  },
  {
   "cell_type": "code",
   "execution_count": 2,
   "metadata": {},
   "outputs": [],
   "source": [
    "\n",
    "# Define the data folder location\n",
    "data_dir = 'data'\n",
    "\n",
    "# Extract data from zip file\n",
    "if not os.path.exists(data_dir):\n",
    "    with zipfile.ZipFile('data.zip', 'r') as f:\n",
    "        f.extractall('.')\n"
   ]
  },
  {
   "cell_type": "markdown",
   "metadata": {},
   "source": [
    "## Create the datasets and import labels\n",
    "\n",
    "Our idea is to create a hierarchical model to classify the single lead ECG recordings.  \n",
    "This is composed by one signle neural network, trained three times with three different datasets.  \n",
    "With the first NN we find the Atrial Fibrillation (Afib) samples. If the samples are not classified as Afib, then they represent the input samples for the second NN, which aims to find the samples that are labelled as Normal.  \n",
    "Again, all the samples that are not Afib or Normal are fed to the last NN, that distinguishes between 'Other' and 'Noisy' samples.\n",
    "\n",
    "In order to do so, we need to create three different datasets:\n",
    "* 'Afib' class (labelled as 1) against all the others (labelled as 0)\n",
    "* 'Normal' class (labelled as 1) against 'Other' and 'Noisy' classes (labelled as 0)\n",
    "* 'Other' class (labelled as 1) against 'Noisy' class (labelled as 0)\n",
    "\n",
    "We divided the original dataset in 'Train' and 'Test' set, leaving 20% of the samples out for the final testing of the results.  \n",
    "The training set is used to create the three aforementioned datasets.  "
   ]
  },
  {
   "cell_type": "code",
   "execution_count": 3,
   "metadata": {},
   "outputs": [
    {
     "name": "stderr",
     "output_type": "stream",
     "text": [
      "/usr/local/lib/python3.5/dist-packages/ipykernel_launcher.py:13: UserWarning: Boolean Series key will be reindexed to match DataFrame index.\n",
      "  del sys.path[0]\n",
      "/usr/local/lib/python3.5/dist-packages/ipykernel_launcher.py:19: UserWarning: Boolean Series key will be reindexed to match DataFrame index.\n"
     ]
    }
   ],
   "source": [
    "\n",
    "# Create a dataframe containing all the files and the labels from the reference file\n",
    "reference_df = pd.read_csv('data/REFERENCE-v3.csv', index_col=0, header=None, names=['label'])\n",
    "train_reference_df, test_reference_df = train_test_split(reference_df, test_size=0.2, stratify=reference_df['label'], random_state=123)\n",
    "\n",
    "# Replace 'A' with 1 and others with 0\n",
    "reference_df_Afib = train_reference_df.copy()\n",
    "reference_df_Afib['label'] = reference_df_Afib['label'].apply(lambda l: 1 if l == 'A' else 0)\n",
    "\n",
    "# Just consider the 'N' class against 'O' and '~'\n",
    "mask_Normal = (reference_df['label'] == 'N') | (reference_df['label'] == 'O') | (reference_df['label'] == '~')\n",
    "reference_df_Normal = train_reference_df.copy()\n",
    "reference_df_Normal = reference_df_Normal[mask_Normal]\n",
    "reference_df_Normal['label'] = reference_df_Normal['label'].apply(lambda l: 1 if l == 'N' else 0)\n",
    "\n",
    "# Just consider the 'O' class against '~'\n",
    "mask_Other = (reference_df['label'] == 'O') | (reference_df['label'] == '~')\n",
    "reference_df_Other = train_reference_df.copy()\n",
    "reference_df_Other = reference_df_Other[mask_Other]\n",
    "reference_df_Other['label'] = reference_df_Other['label'].apply(lambda l: 1 if l == 'O' else 0)"
   ]
  },
  {
   "cell_type": "markdown",
   "metadata": {},
   "source": [
    " ## Create train and validation sets\n",
    "\n",
    "Here we further divide the three datasets in 'Train' and 'Validation' set, which will be used to train and evaluate the performances of the three NN.  \n",
    "We also compute the class weights, that will be used to balance the differences in the number of samples for the two classes of the datasets."
   ]
  },
  {
   "cell_type": "code",
   "execution_count": 4,
   "metadata": {},
   "outputs": [
    {
     "name": "stdout",
     "output_type": "stream",
     "text": [
      "### Afib DATASET\n",
      "### TRAIN SET\n",
      "\tAfib ECG: 485 (8.89%)\n",
      "\tRemain ECG: 4972 (91.11%)\n",
      "### VALIDATION SET\n",
      "\tAfib ECG: 121 (8.86%)\n",
      "\tRemain ECG: 1244 (91.14%)\n",
      "### CLASS WEIGHTS\n",
      "\t [0.54877313 5.6257732 ]\n"
     ]
    }
   ],
   "source": [
    "# Keep 20% of the data out for validation\n",
    "train_reference_df_Afib, val_reference_df_Afib = train_test_split(reference_df_Afib, test_size=0.2, stratify=reference_df_Afib['label'], random_state=123)\n",
    "# Count the elements in the sets\n",
    "num_train_data_Afib = sum(train_reference_df_Afib['label'] == 1)\n",
    "num_train_data_remains_Afib   = sum(train_reference_df_Afib['label'] == 0)\n",
    "num_val_data_Afib  = sum(val_reference_df_Afib['label'] == 1)\n",
    "num_val_data_remains_Afib = sum(val_reference_df_Afib['label'] == 0)\n",
    "\n",
    "weights_Afib = class_weight.compute_class_weight('balanced',\n",
    "                                            np.unique(train_reference_df_Afib['label']),\n",
    "                                            train_reference_df_Afib['label'])\n",
    "\n",
    "print('### Afib DATASET')\n",
    "print('### TRAIN SET')\n",
    "print('\\tAfib ECG: {} ({:.2f}%)'.format(num_train_data_Afib, 100 * num_train_data_Afib / len(train_reference_df_Afib)))\n",
    "print('\\tRemain ECG: {} ({:.2f}%)'.format(num_train_data_remains_Afib, 100 * num_train_data_remains_Afib / len(train_reference_df_Afib)))\n",
    "print('### VALIDATION SET')\n",
    "print('\\tAfib ECG: {} ({:.2f}%)'.format(num_val_data_Afib, 100 * num_val_data_Afib / len(val_reference_df_Afib)))\n",
    "print('\\tRemain ECG: {} ({:.2f}%)'.format(num_val_data_remains_Afib, 100 * num_val_data_remains_Afib / len(val_reference_df_Afib)))\n",
    "print('### CLASS WEIGHTS')\n",
    "print('\\t',weights_Afib)"
   ]
  },
  {
   "cell_type": "code",
   "execution_count": 5,
   "metadata": {},
   "outputs": [
    {
     "name": "stdout",
     "output_type": "stream",
     "text": [
      "### Normal DATASET\n",
      "### TRAIN SET\n",
      "\tNormal ECG: 3248 (65.33%)\n",
      "\tRemain ECG: 1724 (34.67%)\n",
      "### VALIDATION SET\n",
      "\tNormal ECG: 813 (65.35%)\n",
      "\tRemain ECG: 431 (34.65%)\n",
      "### CLASS WEIGHTS\n",
      "\t [1.44199536 0.76539409]\n"
     ]
    }
   ],
   "source": [
    "# Keep 20% of the data out for validation\n",
    "train_reference_df_Normal, val_reference_df_Normal = train_test_split(reference_df_Normal, test_size=0.2, stratify=reference_df_Normal['label'], random_state=123)\n",
    "# Count the elements in the sets\n",
    "num_train_data_Normal = sum(train_reference_df_Normal['label'] == 1)\n",
    "num_train_data_remains_Normal   = sum(train_reference_df_Normal['label'] == 0)\n",
    "num_val_data_Normal  = sum(val_reference_df_Normal['label'] == 1)\n",
    "num_val_data_remains_Normal = sum(val_reference_df_Normal['label'] == 0)\n",
    "\n",
    "weights_Normal = class_weight.compute_class_weight('balanced',\n",
    "                                            np.unique(train_reference_df_Normal['label']),\n",
    "                                            train_reference_df_Normal['label'])\n",
    "\n",
    "print('### Normal DATASET')\n",
    "print('### TRAIN SET')\n",
    "print('\\tNormal ECG: {} ({:.2f}%)'.format(num_train_data_Normal, 100 * num_train_data_Normal / len(train_reference_df_Normal)))\n",
    "print('\\tRemain ECG: {} ({:.2f}%)'.format(num_train_data_remains_Normal, 100 * num_train_data_remains_Normal / len(train_reference_df_Normal)))\n",
    "print('### VALIDATION SET')\n",
    "print('\\tNormal ECG: {} ({:.2f}%)'.format(num_val_data_Normal, 100 * num_val_data_Normal / len(val_reference_df_Normal)))\n",
    "print('\\tRemain ECG: {} ({:.2f}%)'.format(num_val_data_remains_Normal, 100 * num_val_data_remains_Normal / len(val_reference_df_Normal)))\n",
    "print('### CLASS WEIGHTS')\n",
    "print('\\t',weights_Normal)"
   ]
  },
  {
   "cell_type": "code",
   "execution_count": 6,
   "metadata": {},
   "outputs": [
    {
     "name": "stdout",
     "output_type": "stream",
     "text": [
      "### Other DATASET\n",
      "### TRAIN SET\n",
      "\tOther ECG: 1546 (89.68%)\n",
      "\tRemain ECG: 178 (10.32%)\n",
      "### VALIDATION SET\n",
      "\tOther ECG: 386 (89.56%)\n",
      "\tRemain ECG: 45 (10.44%)\n",
      "### CLASS WEIGHTS\n",
      "\t [4.84269663 0.55756792]\n"
     ]
    }
   ],
   "source": [
    "# Keep 20% of the data out for validation\n",
    "train_reference_df_Other, val_reference_df_Other = train_test_split(reference_df_Other, test_size=0.2, stratify=reference_df_Other['label'], random_state=123)\n",
    "# Count the elements in the sets\n",
    "num_train_data_Other = sum(train_reference_df_Other['label'] == 1)\n",
    "num_train_data_remains_Other   = sum(train_reference_df_Other['label'] == 0)\n",
    "num_val_data_Other  = sum(val_reference_df_Other['label'] == 1)\n",
    "num_val_data_remains_Other = sum(val_reference_df_Other['label'] == 0)\n",
    "\n",
    "weights_Other = class_weight.compute_class_weight('balanced',\n",
    "                                            np.unique(train_reference_df_Other['label']),\n",
    "                                            train_reference_df_Other['label'])\n",
    "\n",
    "print('### Other DATASET')\n",
    "print('### TRAIN SET')\n",
    "print('\\tOther ECG: {} ({:.2f}%)'.format(num_train_data_Other, 100 * num_train_data_Other / len(train_reference_df_Other)))\n",
    "print('\\tRemain ECG: {} ({:.2f}%)'.format(num_train_data_remains_Other, 100 * num_train_data_remains_Other / len(train_reference_df_Other)))\n",
    "print('### VALIDATION SET')\n",
    "print('\\tOther ECG: {} ({:.2f}%)'.format(num_val_data_Other, 100 * num_val_data_Other / len(val_reference_df_Other)))\n",
    "print('\\tRemain ECG: {} ({:.2f}%)'.format(num_val_data_remains_Other, 100 * num_val_data_remains_Other / len(val_reference_df_Other)))\n",
    "print('### CLASS WEIGHTS')\n",
    "print('\\t',weights_Other)"
   ]
  },
  {
   "cell_type": "markdown",
   "metadata": {},
   "source": [
    "# Processing functions\n",
    "In this section we define all the utility functions that we will use for the processing of the raw data.\n",
    "## Load data"
   ]
  },
  {
   "cell_type": "code",
   "execution_count": 7,
   "metadata": {},
   "outputs": [],
   "source": [
    "def load_data(file_name, data_dir):\n",
    "    # Load the ECG signal from the .mat file\n",
    "    data = loadmat((Path(data_dir) / (file_name + '.mat')).as_posix())['val']\n",
    "    return data.squeeze()\n"
   ]
  },
  {
   "cell_type": "markdown",
   "metadata": {},
   "source": [
    " ## Preprocessing - Baseline wander removal\n"
   ]
  },
  {
   "cell_type": "code",
   "execution_count": 8,
   "metadata": {},
   "outputs": [],
   "source": [
    "def baseline_wander_removal(data):\n",
    "    # Sampling frequency\n",
    "    fs = 300\n",
    "    # Baseline estimation\n",
    "    win_size = int(np.round(0.2 * fs)) + 1\n",
    "    baseline = medfilt(data, win_size)\n",
    "    win_size = int(np.round(0.6 * fs)) + 1\n",
    "    baseline = medfilt(baseline, win_size)\n",
    "    # Removing baseline\n",
    "    filt_data = data - baseline\n",
    "    return filt_data\n",
    "    "
   ]
  },
  {
   "cell_type": "markdown",
   "metadata": {},
   "source": [
    " ## Preprocessing - Normalization\n"
   ]
  },
  {
   "cell_type": "code",
   "execution_count": 9,
   "metadata": {},
   "outputs": [],
   "source": [
    "\n",
    "def normalize_data(data):\n",
    "    # Amplitude estimate\n",
    "    norm_factor = np.percentile(data, 99) - np.percentile(data, 5)\n",
    "    return (data / norm_factor)\n",
    "    "
   ]
  },
  {
   "cell_type": "markdown",
   "metadata": {},
   "source": [
    " ## Preprocessing - Random crop\n",
    " \n",
    " We use the 'Random crop' only for the training datasets.  \n",
    " For the validation/test sets the crop is centered in the middle of the signal, in order to perform the validation in the same portion of the signal every time."
   ]
  },
  {
   "cell_type": "code",
   "execution_count": 10,
   "metadata": {},
   "outputs": [],
   "source": [
    "def random_crop(data, target_size=9000, center_crop=False):\n",
    "    N = data.shape[0]\n",
    "    # Return data if correct size\n",
    "    if N == target_size:\n",
    "        return data\n",
    "    # If data is too small, then pad with zeros\n",
    "    if N < target_size:\n",
    "        tot_pads = target_size - N\n",
    "        left_pads = int(np.ceil(tot_pads / 2))\n",
    "        right_pads = int(np.floor(tot_pads / 2))\n",
    "        return np.pad(data, [left_pads, right_pads], mode='constant')\n",
    "    # Random Crop (always centered if center_crop=True)\n",
    "    if center_crop:\n",
    "        from_ = int((N / 2) - (target_size / 2))\n",
    "    else:\n",
    "        from_ = np.random.randint(0, np.floor(N - target_size))\n",
    "    to_ = from_ + target_size\n",
    "    return data[from_:to_]\n"
   ]
  },
  {
   "cell_type": "markdown",
   "metadata": {},
   "source": [
    "## Data loading"
   ]
  },
  {
   "cell_type": "code",
   "execution_count": 11,
   "metadata": {},
   "outputs": [],
   "source": [
    "def load_and_preprocess_data(file_name, data_dir):\n",
    "    # Required by tensorflow (strings are passed as bytes)\n",
    "    if type(file_name) is bytes:\n",
    "        file_name = file_name.decode()\n",
    "        data_dir = data_dir.decode()\n",
    "    # Load data\n",
    "    data = load_data(file_name, data_dir)\n",
    "    # Baseline wander removal\n",
    "    data = baseline_wander_removal(data)\n",
    "    # Normalize\n",
    "    data = normalize_data(data)\n",
    "    return data.astype(np.float32)"
   ]
  },
  {
   "cell_type": "markdown",
   "metadata": {},
   "source": [
    " # Dataset\n",
    " ## Dataset definition\n",
    "We now define a function that creates a dataset object and properly maps all the required processing, using the functions defined in the previous section. "
   ]
  },
  {
   "cell_type": "code",
   "execution_count": 12,
   "metadata": {},
   "outputs": [],
   "source": [
    "def create_dataset(reference_df, input_size, center_crop, batch_size, shuffle, cache_file=None):\n",
    "        \n",
    "    # Convert dataframe to lists\n",
    "    file_names = list(reference_df.index)\n",
    "    labels = reference_df['label']\n",
    "    \n",
    "    # Create a Dataset object\n",
    "    dataset = tf.data.Dataset.from_tensor_slices((file_names, labels))\n",
    "    \n",
    "    # Map the load_and_preprocess_data function\n",
    "    py_func = lambda file_name, label: (tf.py_func(load_and_preprocess_data, [file_name, data_dir], tf.float32), label)\n",
    "    dataset = dataset.map(py_func, num_parallel_calls=os.cpu_count())\n",
    "    \n",
    "    # Cache dataset\n",
    "    if cache_file:\n",
    "        dataset = dataset.cache(cache_file)\n",
    "    \n",
    "    # Shuffle    \n",
    "    if shuffle:\n",
    "        dataset = dataset.shuffle(len(file_names))\n",
    "        \n",
    "    # Repeat the dataset indefinitely\n",
    "    dataset = dataset.repeat()\n",
    "    \n",
    "    # Map the crop function\n",
    "    py_func = lambda data, label: (tf.contrib.framework.py_func(random_crop, [data], output_types=tf.float32, output_shapes=input_size), label)\n",
    "    dataset = dataset.map(py_func)\n",
    "    \n",
    "    # Correct input shape for the network\n",
    "    dataset = dataset.map(lambda data, label: (tf.expand_dims(data, 1), label))\n",
    "    \n",
    "    # Batch\n",
    "    dataset = dataset.batch(batch_size=batch_size)\n",
    "    \n",
    "    # Prefetch\n",
    "    dataset = dataset.prefetch(buffer_size=1)\n",
    "    \n",
    "    return dataset\n",
    "    "
   ]
  },
  {
   "cell_type": "markdown",
   "metadata": {},
   "source": [
    " ## Dataset initialization\n",
    "For all the three datasets we create the 'Train' and 'Validation' sets, with the function defined before.  \n",
    "The 'shuffle' parameter is set to True for the Train set and to False for the Validation; the opposite is done for the 'center_crop' parameter, as explained before. \n",
    "We also define the train and validation steps, required during the NN training."
   ]
  },
  {
   "cell_type": "code",
   "execution_count": 13,
   "metadata": {},
   "outputs": [],
   "source": [
    "input_size = 9000\n",
    "batch_size = 20"
   ]
  },
  {
   "cell_type": "code",
   "execution_count": 14,
   "metadata": {},
   "outputs": [
    {
     "name": "stdout",
     "output_type": "stream",
     "text": [
      "WARNING:tensorflow:From <ipython-input-12-62985c8ccec1>:11: py_func (from tensorflow.python.ops.script_ops) is deprecated and will be removed in a future version.\n",
      "Instructions for updating:\n",
      "tf.py_func is deprecated in TF V2. Instead, use\n",
      "    tf.py_function, which takes a python function which manipulates tf eager\n",
      "    tensors instead of numpy arrays. It's easy to convert a tf eager tensor to\n",
      "    an ndarray (just call tensor.numpy()) but having access to eager tensors\n",
      "    means `tf.py_function`s can use accelerators such as GPUs as well as\n",
      "    being differentiable using a gradient tape.\n",
      "    \n",
      "\n",
      "WARNING: The TensorFlow contrib module will not be included in TensorFlow 2.0.\n",
      "For more information, please see:\n",
      "  * https://github.com/tensorflow/community/blob/master/rfcs/20180907-contrib-sunset.md\n",
      "  * https://github.com/tensorflow/addons\n",
      "If you depend on functionality not listed there, please file an issue.\n",
      "\n"
     ]
    }
   ],
   "source": [
    "# Afib\n",
    "train_dataset_Afib = create_dataset(train_reference_df_Afib, \n",
    "                               input_size=input_size, \n",
    "                               center_crop=False, \n",
    "                               batch_size=batch_size, \n",
    "                               shuffle=True,\n",
    "                               cache_file='train_cache_Afib')\n",
    "\n",
    "val_dataset_Afib = create_dataset(val_reference_df_Afib, \n",
    "                             input_size=input_size, \n",
    "                             center_crop=True, \n",
    "                             batch_size=batch_size, \n",
    "                             shuffle=False,\n",
    "                             cache_file='val_cache_Afib')\n",
    "\n",
    "train_steps_Afib = int(np.ceil(len(train_reference_df_Afib)/batch_size))\n",
    "val_steps_Afib = int(np.ceil(len(val_reference_df_Afib)/batch_size))\n"
   ]
  },
  {
   "cell_type": "code",
   "execution_count": 15,
   "metadata": {},
   "outputs": [],
   "source": [
    "# Normal\n",
    "train_dataset_Normal = create_dataset(train_reference_df_Normal, \n",
    "                               input_size=input_size, \n",
    "                               center_crop=False, \n",
    "                               batch_size=batch_size, \n",
    "                               shuffle=True,\n",
    "                               cache_file='train_cache_Normal')\n",
    "\n",
    "val_dataset_Normal = create_dataset(val_reference_df_Normal, \n",
    "                             input_size=input_size, \n",
    "                             center_crop=True, \n",
    "                             batch_size=batch_size, \n",
    "                             shuffle=False,\n",
    "                             cache_file='val_cache_Normal')\n",
    "\n",
    "train_steps_Normal = int(np.ceil(len(train_reference_df_Normal)/batch_size))\n",
    "val_steps_Normal = int(np.ceil(len(val_reference_df_Normal)/batch_size))\n"
   ]
  },
  {
   "cell_type": "code",
   "execution_count": 16,
   "metadata": {},
   "outputs": [],
   "source": [
    "# Other\n",
    "train_dataset_Other = create_dataset(train_reference_df_Other, \n",
    "                               input_size=input_size, \n",
    "                               center_crop=False, \n",
    "                               batch_size=batch_size, \n",
    "                               shuffle=True,\n",
    "                               cache_file='train_cache_Other')\n",
    "\n",
    "val_dataset_Other = create_dataset(val_reference_df_Other, \n",
    "                             input_size=input_size, \n",
    "                             center_crop=True, \n",
    "                             batch_size=batch_size, \n",
    "                             shuffle=False,\n",
    "                             cache_file='val_cache_Other')\n",
    "\n",
    "train_steps_Other = int(np.ceil(len(train_reference_df_Other)/batch_size))\n",
    "val_steps_Other = int(np.ceil(len(val_reference_df_Other)/batch_size))\n"
   ]
  },
  {
   "cell_type": "markdown",
   "metadata": {},
   "source": [
    "## Cache\n",
    "For all the three datasets we prepare the cache to speed up the next steps of the algorithm.  \n",
    "We can see that the first epoch takes longer to load, but the following ones are considerably faster."
   ]
  },
  {
   "cell_type": "code",
   "execution_count": 17,
   "metadata": {},
   "outputs": [
    {
     "name": "stderr",
     "output_type": "stream",
     "text": [
      "100%|██████████| 3/3 [00:02<00:00,  1.12it/s]\n",
      "100%|██████████| 3/3 [00:00<00:00, 220.46it/s]\n",
      "100%|██████████| 3/3 [00:00<00:00, 251.70it/s]"
     ]
    },
    {
     "name": "stdout",
     "output_type": "stream",
     "text": [
      "EPOCH 1 - Time to load the entire dataset [seconds]: 2.677119493484497\n",
      "EPOCH 2 - Time to load the entire dataset [seconds]: 0.01733684539794922\n",
      "EPOCH 3 - Time to load the entire dataset [seconds]: 0.015840768814086914\n"
     ]
    },
    {
     "name": "stderr",
     "output_type": "stream",
     "text": [
      "\n"
     ]
    }
   ],
   "source": [
    "# Define an iterator to get data\n",
    "iterator = train_dataset_Afib.make_one_shot_iterator()\n",
    "next_element = iterator.get_next()\n",
    "# Start a new session\n",
    "with tf.Session() as sess:\n",
    "    # Iterate for 3 epochs\n",
    "    for num_epoch in range(3):\n",
    "        # Time the loading time\n",
    "        it = time.time()\n",
    "        for step in tqdm(range(3)):\n",
    "                # Get the next batch of data\n",
    "                data, label = sess.run(next_element)\n",
    "        # Print loading time\n",
    "        print('EPOCH {} - Time to load the entire dataset [seconds]: {}'.format(num_epoch+1, time.time() - it))"
   ]
  },
  {
   "cell_type": "code",
   "execution_count": 18,
   "metadata": {},
   "outputs": [
    {
     "name": "stderr",
     "output_type": "stream",
     "text": [
      "100%|██████████| 3/3 [00:01<00:00,  1.92it/s]\n",
      "100%|██████████| 3/3 [00:00<00:00, 273.87it/s]\n",
      "100%|██████████| 3/3 [00:00<00:00, 269.06it/s]"
     ]
    },
    {
     "name": "stdout",
     "output_type": "stream",
     "text": [
      "EPOCH 1 - Time to load the entire dataset [seconds]: 1.5640184879302979\n",
      "EPOCH 2 - Time to load the entire dataset [seconds]: 0.014466524124145508\n",
      "EPOCH 3 - Time to load the entire dataset [seconds]: 0.01413583755493164\n"
     ]
    },
    {
     "name": "stderr",
     "output_type": "stream",
     "text": [
      "\n"
     ]
    }
   ],
   "source": [
    "# Define an iterator to get data\n",
    "iterator = train_dataset_Normal.make_one_shot_iterator()\n",
    "next_element = iterator.get_next()\n",
    "# Start a new session\n",
    "with tf.Session() as sess:\n",
    "    # Iterate for 3 epochs\n",
    "    for num_epoch in range(3):\n",
    "        # Time the loading time\n",
    "        it = time.time()\n",
    "        for step in tqdm(range(3)):\n",
    "                # Get the next batch of data\n",
    "                data, label = sess.run(next_element)\n",
    "        # Print loading time\n",
    "        print('EPOCH {} - Time to load the entire dataset [seconds]: {}'.format(num_epoch+1, time.time() - it))"
   ]
  },
  {
   "cell_type": "code",
   "execution_count": 19,
   "metadata": {},
   "outputs": [
    {
     "name": "stderr",
     "output_type": "stream",
     "text": [
      "100%|██████████| 3/3 [00:00<00:00,  5.31it/s]\n",
      "100%|██████████| 3/3 [00:00<00:00, 222.68it/s]\n",
      "100%|██████████| 3/3 [00:00<00:00, 219.39it/s]"
     ]
    },
    {
     "name": "stdout",
     "output_type": "stream",
     "text": [
      "EPOCH 1 - Time to load the entire dataset [seconds]: 0.5662927627563477\n",
      "EPOCH 2 - Time to load the entire dataset [seconds]: 0.01577162742614746\n",
      "EPOCH 3 - Time to load the entire dataset [seconds]: 0.016245365142822266\n"
     ]
    },
    {
     "name": "stderr",
     "output_type": "stream",
     "text": [
      "\n"
     ]
    }
   ],
   "source": [
    "# Define an iterator to get data\n",
    "iterator = train_dataset_Other.make_one_shot_iterator()\n",
    "next_element = iterator.get_next()\n",
    "# Start a new session\n",
    "with tf.Session() as sess:\n",
    "    # Iterate for 3 epochs\n",
    "    for num_epoch in range(3):\n",
    "        # Time the loading time\n",
    "        it = time.time()\n",
    "        for step in tqdm(range(3)):\n",
    "                # Get the next batch of data\n",
    "                data, label = sess.run(next_element)\n",
    "        # Print loading time\n",
    "        print('EPOCH {} - Time to load the entire dataset [seconds]: {}'.format(num_epoch+1, time.time() - it))"
   ]
  },
  {
   "cell_type": "markdown",
   "metadata": {},
   "source": [
    " # RNN Model\n",
    "\n",
    " - Input of shape (None, 9000, 1)\n",
    " - Layer 1\n",
    "   - Conv1D with 32 channels, kernel size 9, and stride 4\n",
    "   - Batchnorm\n",
    "   - ReLu\n",
    " - Layer 2\n",
    "   - Conv1D with 64 channels, kernel size 9, and stride 4\n",
    "   - Batchnorm\n",
    "   - ReLu\n",
    " - Layer 3\n",
    "   - Conv1D with 128 channels, kernel size 9, and stride 4\n",
    "   - Batchnorm\n",
    "   - ReLu\n",
    " - Layer 4\n",
    "   - Bidirectional GRU with 128 units\n",
    " - Layer 5\n",
    "   - Dense with 1 output (probability of the input sample to be an Afib)\n"
   ]
  },
  {
   "cell_type": "code",
   "execution_count": 20,
   "metadata": {},
   "outputs": [],
   "source": [
    "def MyModel(input_shape):\n",
    "    \"\"\"\n",
    "    Arguments:\n",
    "    input_shape -- shape of the data of the dataset\n",
    "\n",
    "    Returns:\n",
    "    model -- a tf.keras.Model() instance\n",
    "    \"\"\"\n",
    "    \n",
    "    X_input = tf.keras.Input(input_shape)\n",
    "\n",
    "    # CONV -> Batch Normalization -> ReLU Block applied to X\n",
    "    X = tf.keras.layers.Conv1D(32, 9, strides=4, name='conv0')(X_input)\n",
    "    X = tf.keras.layers.BatchNormalization(axis=2, name='bn0')(X)\n",
    "    X = tf.keras.layers.Activation('relu')(X)\n",
    "    \n",
    "    X = tf.keras.layers.Conv1D(64, 9, strides=4, name='conv1')(X)\n",
    "    X = tf.keras.layers.BatchNormalization(axis=2, name='bn1')(X)\n",
    "    X = tf.keras.layers.Activation('relu')(X)\n",
    "    \n",
    "    X = tf.keras.layers.Conv1D(128, 9, strides=4, name='conv2')(X)\n",
    "    X = tf.keras.layers.BatchNormalization(axis=2, name='bn2')(X)\n",
    "    X = tf.keras.layers.Activation('relu')(X)\n",
    "\n",
    "    # GRU \n",
    "    X = tf.keras.layers.GRU(128, name='gru0')(X)\n",
    "\n",
    "    # FLATTEN X + FULLYCONNECTED\n",
    "    X = tf.keras.layers.Flatten()(X)\n",
    "    X = tf.keras.layers.Dense(1, activation='sigmoid', name='fc')(X)\n",
    "\n",
    "    # Create model. This creates your Keras model instance, you'll use this instance to train/test the model.\n",
    "    model = tf.keras.Model(inputs = X_input, outputs = X, name='MyModel')\n",
    "        \n",
    "    return model"
   ]
  },
  {
   "cell_type": "markdown",
   "metadata": {},
   "source": [
    "## Weighted loss\n",
    "We now define a custom weighted binary crossentropy loss, using the weights computed before for each class."
   ]
  },
  {
   "cell_type": "code",
   "execution_count": 21,
   "metadata": {},
   "outputs": [],
   "source": [
    "def weighted_binary_crossentropy_Afib(y_true, y_pred):\n",
    "    # Calculate the binary crossentropy\n",
    "    b_ce = tf.keras.losses.binary_crossentropy(y_true, y_pred)\n",
    "\n",
    "    # Apply the weights\n",
    "    weight_vector = y_true * weights_Afib[0] + (1. - y_true) * weights_Afib[1]\n",
    "    weighted_b_ce = weight_vector * b_ce\n",
    "\n",
    "    # Return the mean error\n",
    "    return tf.keras.backend.mean(weighted_b_ce)\n",
    "    "
   ]
  },
  {
   "cell_type": "code",
   "execution_count": 22,
   "metadata": {},
   "outputs": [],
   "source": [
    "def weighted_binary_crossentropy_Normal(y_true, y_pred):\n",
    "    # Calculate the binary crossentropy\n",
    "    b_ce = tf.keras.losses.binary_crossentropy(y_true, y_pred)\n",
    "\n",
    "    # Apply the weights\n",
    "    weight_vector = y_true * weights_Normal[0] + (1. - y_true) * weights_Normal[1]\n",
    "    weighted_b_ce = weight_vector * b_ce\n",
    "\n",
    "    # Return the mean error\n",
    "    return tf.keras.backend.mean(weighted_b_ce)\n"
   ]
  },
  {
   "cell_type": "code",
   "execution_count": 23,
   "metadata": {},
   "outputs": [],
   "source": [
    "def weighted_binary_crossentropy_Other(y_true, y_pred):\n",
    "    # Calculate the binary crossentropy\n",
    "    b_ce = tf.keras.losses.binary_crossentropy(y_true, y_pred)\n",
    "\n",
    "    # Apply the weights\n",
    "    weight_vector = y_true * weights_Other[0] + (1. - y_true) * weights_Other[1]\n",
    "    weighted_b_ce = weight_vector * b_ce\n",
    "\n",
    "    # Return the mean error\n",
    "    return tf.keras.backend.mean(weighted_b_ce)\n"
   ]
  },
  {
   "cell_type": "markdown",
   "metadata": {},
   "source": [
    "## RNN\n",
    "For each dataset we compile the defined model with our custom loss function."
   ]
  },
  {
   "cell_type": "code",
   "execution_count": 24,
   "metadata": {},
   "outputs": [
    {
     "name": "stdout",
     "output_type": "stream",
     "text": [
      "WARNING:tensorflow:From /usr/local/lib/python3.5/dist-packages/tensorflow/python/ops/resource_variable_ops.py:435: colocate_with (from tensorflow.python.framework.ops) is deprecated and will be removed in a future version.\n",
      "Instructions for updating:\n",
      "Colocations handled automatically by placer.\n"
     ]
    }
   ],
   "source": [
    "# Afib model\n",
    "input_shape = (input_size, 1)\n",
    "model_Afib = MyModel(input_shape)\n",
    "\n",
    "model_Afib.compile(optimizer=\"adam\", loss=weighted_binary_crossentropy_Afib, metrics=[\"accuracy\"])\n"
   ]
  },
  {
   "cell_type": "code",
   "execution_count": 25,
   "metadata": {},
   "outputs": [],
   "source": [
    "# Normal model\n",
    "input_shape = (input_size, 1)\n",
    "model_Normal = MyModel(input_shape)\n",
    "\n",
    "model_Normal.compile(optimizer=\"adam\", loss=weighted_binary_crossentropy_Normal, metrics=[\"accuracy\"])"
   ]
  },
  {
   "cell_type": "code",
   "execution_count": 26,
   "metadata": {},
   "outputs": [],
   "source": [
    "# Other model\n",
    "input_shape = (input_size, 1)\n",
    "model_Other = MyModel(input_shape)\n",
    "\n",
    "model_Other.compile(optimizer=\"adam\", loss=weighted_binary_crossentropy_Other, metrics=[\"accuracy\"])"
   ]
  },
  {
   "cell_type": "markdown",
   "metadata": {},
   "source": [
    "## Training\n",
    "\n",
    "We train the models for 30 epochs: we are limited in the computational power and time, but it appeared to us a good compromise to understand the capabilities of our models.  \n",
    "We then save the models to load them in the future, without trainig them every time."
   ]
  },
  {
   "cell_type": "code",
   "execution_count": 27,
   "metadata": {},
   "outputs": [],
   "source": [
    "# Set the number of epochs\n",
    "num_epochs = 30"
   ]
  },
  {
   "cell_type": "code",
   "execution_count": 28,
   "metadata": {},
   "outputs": [
    {
     "name": "stdout",
     "output_type": "stream",
     "text": [
      "WARNING:tensorflow:From /usr/local/lib/python3.5/dist-packages/tensorflow/python/ops/math_ops.py:3066: to_int32 (from tensorflow.python.ops.math_ops) is deprecated and will be removed in a future version.\n",
      "Instructions for updating:\n",
      "Use tf.cast instead.\n",
      "Epoch 1/30\n",
      "273/273 [==============================] - 99s 361ms/step - loss: 1.5431 - acc: 0.9103 - val_loss: 1.4980 - val_acc: 0.9116\n",
      "Epoch 2/30\n",
      "273/273 [==============================] - 94s 343ms/step - loss: 1.3294 - acc: 0.9119 - val_loss: 1.3714 - val_acc: 0.9109\n",
      "Epoch 3/30\n",
      "273/273 [==============================] - 94s 344ms/step - loss: 1.0595 - acc: 0.9222 - val_loss: 1.1381 - val_acc: 0.9167\n",
      "Epoch 4/30\n",
      "273/273 [==============================] - 94s 344ms/step - loss: 0.8548 - acc: 0.9328 - val_loss: 0.8736 - val_acc: 0.9341\n",
      "Epoch 5/30\n",
      "273/273 [==============================] - 94s 345ms/step - loss: 0.6930 - acc: 0.9467 - val_loss: 1.0533 - val_acc: 0.9130\n",
      "Epoch 6/30\n",
      "273/273 [==============================] - 94s 345ms/step - loss: 0.5903 - acc: 0.9557 - val_loss: 0.6743 - val_acc: 0.9464\n",
      "Epoch 7/30\n",
      "273/273 [==============================] - 94s 343ms/step - loss: 0.5030 - acc: 0.9621 - val_loss: 0.7042 - val_acc: 0.9420\n",
      "Epoch 8/30\n",
      "273/273 [==============================] - 94s 344ms/step - loss: 0.4437 - acc: 0.9689 - val_loss: 0.6951 - val_acc: 0.9514\n",
      "Epoch 9/30\n",
      "273/273 [==============================] - 95s 349ms/step - loss: 0.3733 - acc: 0.9734 - val_loss: 0.6883 - val_acc: 0.9449\n",
      "Epoch 10/30\n",
      "273/273 [==============================] - 95s 346ms/step - loss: 0.3279 - acc: 0.9767 - val_loss: 0.7044 - val_acc: 0.9428\n",
      "Epoch 11/30\n",
      "273/273 [==============================] - 94s 345ms/step - loss: 0.3210 - acc: 0.9762 - val_loss: 0.8416 - val_acc: 0.9500\n",
      "Epoch 12/30\n",
      "273/273 [==============================] - 94s 345ms/step - loss: 0.2967 - acc: 0.9804 - val_loss: 0.7381 - val_acc: 0.9500\n",
      "Epoch 13/30\n",
      "273/273 [==============================] - 95s 347ms/step - loss: 0.2302 - acc: 0.9839 - val_loss: 0.7730 - val_acc: 0.9493\n",
      "Epoch 14/30\n",
      "273/273 [==============================] - 96s 353ms/step - loss: 0.1934 - acc: 0.9870 - val_loss: 0.8461 - val_acc: 0.9536\n",
      "Epoch 15/30\n",
      "273/273 [==============================] - 98s 358ms/step - loss: 0.1988 - acc: 0.9868 - val_loss: 0.8426 - val_acc: 0.9457\n",
      "Epoch 16/30\n",
      "273/273 [==============================] - 98s 359ms/step - loss: 0.2169 - acc: 0.9853 - val_loss: 0.8304 - val_acc: 0.9478\n",
      "Epoch 17/30\n",
      "273/273 [==============================] - 98s 358ms/step - loss: 0.1654 - acc: 0.9899 - val_loss: 0.8827 - val_acc: 0.9457\n",
      "Epoch 18/30\n",
      "273/273 [==============================] - 98s 358ms/step - loss: 0.1630 - acc: 0.9901 - val_loss: 0.8941 - val_acc: 0.9471\n",
      "Epoch 19/30\n",
      "273/273 [==============================] - 98s 358ms/step - loss: 0.1741 - acc: 0.9885 - val_loss: 0.7806 - val_acc: 0.9529\n",
      "Epoch 20/30\n",
      "273/273 [==============================] - 97s 356ms/step - loss: 0.1499 - acc: 0.9901 - val_loss: 0.9673 - val_acc: 0.9543\n",
      "Epoch 21/30\n",
      "273/273 [==============================] - 98s 358ms/step - loss: 0.1762 - acc: 0.9881 - val_loss: 1.0243 - val_acc: 0.9312\n",
      "Epoch 22/30\n",
      "273/273 [==============================] - 98s 358ms/step - loss: 0.1650 - acc: 0.9894 - val_loss: 0.8691 - val_acc: 0.9500\n",
      "Epoch 23/30\n",
      "273/273 [==============================] - 98s 358ms/step - loss: 0.1589 - acc: 0.9899 - val_loss: 0.9341 - val_acc: 0.9428\n",
      "Epoch 24/30\n",
      "273/273 [==============================] - 97s 357ms/step - loss: 0.1180 - acc: 0.9921 - val_loss: 1.0286 - val_acc: 0.9493\n",
      "Epoch 25/30\n",
      "273/273 [==============================] - 97s 357ms/step - loss: 0.1330 - acc: 0.9914 - val_loss: 0.8266 - val_acc: 0.9384\n",
      "Epoch 26/30\n",
      "273/273 [==============================] - 96s 351ms/step - loss: 0.1296 - acc: 0.9908 - val_loss: 0.8371 - val_acc: 0.9558\n",
      "Epoch 27/30\n",
      "273/273 [==============================] - 94s 345ms/step - loss: 0.0917 - acc: 0.9952 - val_loss: 0.9110 - val_acc: 0.9478\n",
      "Epoch 28/30\n",
      "273/273 [==============================] - 95s 349ms/step - loss: 0.1952 - acc: 0.9866 - val_loss: 0.9037 - val_acc: 0.9500\n",
      "Epoch 29/30\n",
      "273/273 [==============================] - 96s 350ms/step - loss: 0.1182 - acc: 0.9923 - val_loss: 0.9400 - val_acc: 0.9551\n",
      "Epoch 30/30\n",
      "273/273 [==============================] - 95s 348ms/step - loss: 0.1303 - acc: 0.9918 - val_loss: 0.8766 - val_acc: 0.9536\n"
     ]
    }
   ],
   "source": [
    "history = model_Afib.fit(train_dataset_Afib, epochs=num_epochs, steps_per_epoch=train_steps_Afib, validation_data=val_dataset_Afib, \n",
    "                    validation_steps=val_steps_Afib)\n",
    "# Save the model\n",
    "model_Afib.save('model_Afib_w.h5')\n"
   ]
  },
  {
   "cell_type": "code",
   "execution_count": 29,
   "metadata": {},
   "outputs": [
    {
     "name": "stdout",
     "output_type": "stream",
     "text": [
      "Epoch 1/30\n",
      "249/249 [==============================] - 90s 363ms/step - loss: 0.7864 - acc: 0.6452 - val_loss: 0.8071 - val_acc: 0.6317\n",
      "Epoch 2/30\n",
      "249/249 [==============================] - 86s 347ms/step - loss: 0.7332 - acc: 0.6697 - val_loss: 0.7367 - val_acc: 0.6714\n",
      "Epoch 3/30\n",
      "249/249 [==============================] - 86s 346ms/step - loss: 0.6198 - acc: 0.7496 - val_loss: 0.5571 - val_acc: 0.7944\n",
      "Epoch 4/30\n",
      "249/249 [==============================] - 86s 346ms/step - loss: 0.4598 - acc: 0.8386 - val_loss: 0.5262 - val_acc: 0.8175\n",
      "Epoch 5/30\n",
      "249/249 [==============================] - 86s 347ms/step - loss: 0.4255 - acc: 0.8574 - val_loss: 0.5157 - val_acc: 0.8111\n",
      "Epoch 6/30\n",
      "249/249 [==============================] - 86s 346ms/step - loss: 0.3673 - acc: 0.8839 - val_loss: 0.4583 - val_acc: 0.8532\n",
      "Epoch 7/30\n",
      "249/249 [==============================] - 86s 344ms/step - loss: 0.3415 - acc: 0.8857 - val_loss: 0.4654 - val_acc: 0.8476\n",
      "Epoch 8/30\n",
      "249/249 [==============================] - 86s 343ms/step - loss: 0.3041 - acc: 0.9048 - val_loss: 0.5308 - val_acc: 0.8421\n",
      "Epoch 9/30\n",
      "249/249 [==============================] - 86s 345ms/step - loss: 0.3003 - acc: 0.9030 - val_loss: 0.5043 - val_acc: 0.8405\n",
      "Epoch 10/30\n",
      "249/249 [==============================] - 86s 346ms/step - loss: 0.2766 - acc: 0.9177 - val_loss: 0.5439 - val_acc: 0.8286\n",
      "Epoch 11/30\n",
      "249/249 [==============================] - 86s 346ms/step - loss: 0.2420 - acc: 0.9279 - val_loss: 0.5708 - val_acc: 0.8444\n",
      "Epoch 12/30\n",
      "249/249 [==============================] - 86s 346ms/step - loss: 0.2250 - acc: 0.9315 - val_loss: 0.5633 - val_acc: 0.8365\n",
      "Epoch 13/30\n",
      "249/249 [==============================] - 86s 346ms/step - loss: 0.2197 - acc: 0.9339 - val_loss: 0.5380 - val_acc: 0.8349\n",
      "Epoch 14/30\n",
      "249/249 [==============================] - 86s 346ms/step - loss: 0.1881 - acc: 0.9454 - val_loss: 0.6008 - val_acc: 0.8175\n",
      "Epoch 15/30\n",
      "249/249 [==============================] - 86s 347ms/step - loss: 0.1659 - acc: 0.9494 - val_loss: 0.5906 - val_acc: 0.8492\n",
      "Epoch 17/30\n",
      "249/249 [==============================] - 86s 345ms/step - loss: 0.1679 - acc: 0.9498 - val_loss: 0.6376 - val_acc: 0.8206\n",
      "Epoch 18/30\n",
      "249/249 [==============================] - 86s 347ms/step - loss: 0.1450 - acc: 0.9624 - val_loss: 0.6273 - val_acc: 0.8500\n",
      "Epoch 19/30\n",
      "249/249 [==============================] - 87s 348ms/step - loss: 0.1434 - acc: 0.9588 - val_loss: 0.6181 - val_acc: 0.8452\n",
      "Epoch 20/30\n",
      "249/249 [==============================] - 86s 346ms/step - loss: 0.1578 - acc: 0.9542 - val_loss: 0.6836 - val_acc: 0.8294\n",
      "Epoch 21/30\n",
      "249/249 [==============================] - 86s 347ms/step - loss: 0.1320 - acc: 0.9661 - val_loss: 0.6786 - val_acc: 0.8413\n",
      "Epoch 22/30\n",
      "249/249 [==============================] - 87s 348ms/step - loss: 0.1340 - acc: 0.9655 - val_loss: 0.6795 - val_acc: 0.8405\n",
      "Epoch 23/30\n",
      "249/249 [==============================] - 87s 351ms/step - loss: 0.1286 - acc: 0.9681 - val_loss: 0.7264 - val_acc: 0.8325\n",
      "Epoch 24/30\n",
      "249/249 [==============================] - 90s 361ms/step - loss: 0.1319 - acc: 0.9663 - val_loss: 0.6841 - val_acc: 0.8460\n",
      "Epoch 25/30\n",
      "249/249 [==============================] - 89s 359ms/step - loss: 0.1206 - acc: 0.9703 - val_loss: 0.6904 - val_acc: 0.8389\n",
      "Epoch 26/30\n",
      "249/249 [==============================] - 89s 358ms/step - loss: 0.1132 - acc: 0.9721 - val_loss: 0.7183 - val_acc: 0.8437\n",
      "Epoch 27/30\n",
      "249/249 [==============================] - 89s 359ms/step - loss: 0.1178 - acc: 0.9691 - val_loss: 0.7356 - val_acc: 0.8413\n",
      "Epoch 28/30\n",
      "249/249 [==============================] - 89s 358ms/step - loss: 0.1013 - acc: 0.9707 - val_loss: 0.7647 - val_acc: 0.8397\n",
      "Epoch 29/30\n",
      "249/249 [==============================] - 87s 350ms/step - loss: 0.1060 - acc: 0.9733 - val_loss: 0.7207 - val_acc: 0.8341\n",
      "Epoch 30/30\n",
      "249/249 [==============================] - 87s 351ms/step - loss: 0.1236 - acc: 0.9691 - val_loss: 0.6584 - val_acc: 0.8365\n"
     ]
    }
   ],
   "source": [
    "history = model_Normal.fit(train_dataset_Normal, epochs=num_epochs, steps_per_epoch=train_steps_Normal, validation_data=val_dataset_Normal, \n",
    "                    validation_steps=val_steps_Normal)\n",
    "# Save the model\n",
    "model_Normal.save('model_Normal_w.h5')"
   ]
  },
  {
   "cell_type": "code",
   "execution_count": 30,
   "metadata": {},
   "outputs": [
    {
     "name": "stdout",
     "output_type": "stream",
     "text": [
      "Epoch 1/30\n",
      "87/87 [==============================] - 35s 397ms/step - loss: 1.1668 - acc: 0.8954 - val_loss: 2.7689 - val_acc: 0.8977\n",
      "Epoch 2/30\n",
      "87/87 [==============================] - 30s 351ms/step - loss: 0.8849 - acc: 0.9011 - val_loss: 2.8738 - val_acc: 0.8659\n",
      "Epoch 3/30\n",
      "87/87 [==============================] - 30s 349ms/step - loss: 0.7273 - acc: 0.9201 - val_loss: 2.9102 - val_acc: 0.5750\n",
      "Epoch 4/30\n",
      "87/87 [==============================] - 30s 351ms/step - loss: 0.6364 - acc: 0.9287 - val_loss: 4.3054 - val_acc: 0.2364\n",
      "Epoch 5/30\n",
      "87/87 [==============================] - 30s 350ms/step - loss: 0.5294 - acc: 0.9511 - val_loss: 1.2771 - val_acc: 0.8432\n",
      "Epoch 6/30\n",
      "87/87 [==============================] - 31s 355ms/step - loss: 0.4497 - acc: 0.9580 - val_loss: 0.6759 - val_acc: 0.9250\n",
      "Epoch 7/30\n",
      "87/87 [==============================] - 31s 355ms/step - loss: 0.3885 - acc: 0.9575 - val_loss: 1.1834 - val_acc: 0.8659\n",
      "Epoch 8/30\n",
      "87/87 [==============================] - 31s 353ms/step - loss: 0.3925 - acc: 0.9661 - val_loss: 0.8588 - val_acc: 0.9091\n",
      "Epoch 9/30\n",
      "87/87 [==============================] - 31s 352ms/step - loss: 0.2877 - acc: 0.9695 - val_loss: 1.0027 - val_acc: 0.9045\n",
      "Epoch 10/30\n",
      "87/87 [==============================] - 31s 354ms/step - loss: 0.2438 - acc: 0.9793 - val_loss: 0.8220 - val_acc: 0.9386\n",
      "Epoch 11/30\n",
      "87/87 [==============================] - 31s 353ms/step - loss: 0.2606 - acc: 0.9793 - val_loss: 0.9472 - val_acc: 0.9227\n",
      "Epoch 12/30\n",
      "87/87 [==============================] - 31s 357ms/step - loss: 0.2859 - acc: 0.9770 - val_loss: 1.1202 - val_acc: 0.9273\n",
      "Epoch 13/30\n",
      "87/87 [==============================] - 31s 351ms/step - loss: 0.2432 - acc: 0.9782 - val_loss: 0.9056 - val_acc: 0.9318\n",
      "Epoch 14/30\n",
      "87/87 [==============================] - 31s 353ms/step - loss: 0.1585 - acc: 0.9914 - val_loss: 0.8588 - val_acc: 0.9273\n",
      "Epoch 15/30\n",
      "87/87 [==============================] - 30s 349ms/step - loss: 0.2044 - acc: 0.9839 - val_loss: 0.9523 - val_acc: 0.9318\n",
      "Epoch 16/30\n",
      "87/87 [==============================] - 31s 353ms/step - loss: 0.1354 - acc: 0.9897 - val_loss: 1.0217 - val_acc: 0.9136\n",
      "Epoch 17/30\n",
      "87/87 [==============================] - 31s 351ms/step - loss: 0.1973 - acc: 0.9833 - val_loss: 1.1592 - val_acc: 0.9091\n",
      "Epoch 18/30\n",
      "87/87 [==============================] - 31s 351ms/step - loss: 0.1987 - acc: 0.9856 - val_loss: 0.6676 - val_acc: 0.9432\n",
      "Epoch 19/30\n",
      "87/87 [==============================] - 30s 349ms/step - loss: 0.1206 - acc: 0.9920 - val_loss: 0.9128 - val_acc: 0.9295\n",
      "Epoch 20/30\n",
      "87/87 [==============================] - 31s 352ms/step - loss: 0.1319 - acc: 0.9914 - val_loss: 1.0404 - val_acc: 0.9318\n",
      "Epoch 21/30\n",
      "87/87 [==============================] - 31s 353ms/step - loss: 0.1524 - acc: 0.9897 - val_loss: 0.7759 - val_acc: 0.9386\n",
      "Epoch 22/30\n",
      "87/87 [==============================] - 31s 351ms/step - loss: 0.1438 - acc: 0.9897 - val_loss: 0.7678 - val_acc: 0.9477\n",
      "Epoch 23/30\n",
      "87/87 [==============================] - 30s 350ms/step - loss: 0.2294 - acc: 0.9787 - val_loss: 0.9835 - val_acc: 0.9227\n",
      "Epoch 24/30\n",
      "87/87 [==============================] - 30s 349ms/step - loss: 0.1718 - acc: 0.9868 - val_loss: 0.8837 - val_acc: 0.9386\n",
      "Epoch 25/30\n",
      "87/87 [==============================] - 31s 353ms/step - loss: 0.1249 - acc: 0.9885 - val_loss: 1.1365 - val_acc: 0.9159\n",
      "Epoch 26/30\n",
      "87/87 [==============================] - 31s 352ms/step - loss: 0.1665 - acc: 0.9874 - val_loss: 0.8596 - val_acc: 0.9364\n",
      "Epoch 27/30\n",
      "87/87 [==============================] - 31s 352ms/step - loss: 0.1535 - acc: 0.9874 - val_loss: 0.9060 - val_acc: 0.9227\n",
      "Epoch 28/30\n",
      "87/87 [==============================] - 30s 349ms/step - loss: 0.0978 - acc: 0.9931 - val_loss: 1.1537 - val_acc: 0.9364\n",
      "Epoch 29/30\n",
      "87/87 [==============================] - 30s 346ms/step - loss: 0.1261 - acc: 0.9920 - val_loss: 0.9993 - val_acc: 0.9273\n",
      "Epoch 30/30\n",
      "87/87 [==============================] - 30s 347ms/step - loss: 0.0806 - acc: 0.9954 - val_loss: 1.0693 - val_acc: 0.9273\n"
     ]
    }
   ],
   "source": [
    "history = model_Other.fit(train_dataset_Other, epochs=num_epochs, steps_per_epoch=train_steps_Other, validation_data=val_dataset_Other, \n",
    "                    validation_steps=val_steps_Other)\n",
    "# Save the model\n",
    "model_Other.save('model_Other_w.h5')"
   ]
  },
  {
   "cell_type": "markdown",
   "metadata": {},
   "source": [
    "## Model loading\n",
    "Here we load the saved trained models."
   ]
  },
  {
   "cell_type": "code",
   "execution_count": 31,
   "metadata": {},
   "outputs": [],
   "source": [
    "# Load the models\n",
    "model_Afib = tf.keras.models.load_model('model_Afib_w.h5', custom_objects={'weighted_binary_crossentropy_Afib': weighted_binary_crossentropy_Afib})\n",
    "\n",
    "model_Normal = tf.keras.models.load_model('model_Normal_w.h5', custom_objects={'weighted_binary_crossentropy_Normal': weighted_binary_crossentropy_Normal})\n",
    "\n",
    "model_Other = tf.keras.models.load_model('model_Other_w.h5', custom_objects={'weighted_binary_crossentropy_Other': weighted_binary_crossentropy_Other})"
   ]
  },
  {
   "cell_type": "markdown",
   "metadata": {},
   "source": [
    "## Validation results\n",
    "\n",
    "We now compute some metrics to check the quality for every single model, before using them for the final cascade classification."
   ]
  },
  {
   "cell_type": "code",
   "execution_count": null,
   "metadata": {},
   "outputs": [
    {
     "name": "stdout",
     "output_type": "stream",
     "text": [
      "#### VALIDATION PERFORMANCE Afib\n",
      "Accuracy: 95.53%\n",
      "Precision (fraction of ECG classified as Afib that are actually Afib): 77.78%\n",
      "Recall (fraction of Afib correctly classified as Afib): 69.42%\n",
      "Fscore (harmonic mean of precision and recall): 73.36%\n"
     ]
    },
    {
     "data": {
      "image/png": "[encoded data removed]",
      "text/plain": [
       "<Figure size 432x288 with 1 Axes>"
      ]
     },
     "metadata": {
      "needs_background": "light"
     },
     "output_type": "display_data"
    },
    {
     "data": {
      "image/png": "[encoded data removed]",
      "text/plain": [
       "<Figure size 432x288 with 1 Axes>"
      ]
     },
     "metadata": {
      "needs_background": "light"
     },
     "output_type": "display_data"
    }
   ],
   "source": [
    "# Get the validation labels\n",
    "val_labels = val_reference_df_Afib['label'].values\n",
    "# Get the network output for the validation set\n",
    "val_preds = model_Afib.predict(val_dataset_Afib, steps=val_steps_Afib)[:len(val_labels)].squeeze()\n",
    "# Get the estimated classes\n",
    "val_est_classes = (val_preds > 0.5).astype(int)\n",
    "\n",
    "# Evaluate accuracy\n",
    "accuracy = accuracy_score(val_labels, val_est_classes)\n",
    "\n",
    "# Evaluate precision, recall and fscore\n",
    "precision, recall, fscore, _ = precision_recall_fscore_support(val_labels, val_est_classes, average='binary')\n",
    "\n",
    "print('#### VALIDATION PERFORMANCE Afib')\n",
    "print('Accuracy: {:.2f}%'.format(accuracy*100))\n",
    "print('Precision (fraction of ECG classified as Afib that are actually Afib): {:.2f}%'.format(precision*100))\n",
    "print('Recall (fraction of Afib correctly classified as Afib): {:.2f}%'.format(recall*100))\n",
    "print('Fscore (harmonic mean of precision and recall): {:.2f}%'.format(fscore*100))\n",
    "\n",
    "# ROC curve\n",
    "fpr, tpr, _ = roc_curve(val_labels, val_preds)\n",
    "roc_auc = auc(fpr, tpr)\n",
    "\n",
    "plt.figure()\n",
    "plt.plot(fpr, tpr, color='darkorange', lw=2, label='ROC curve (area = %0.2f)' % roc_auc)\n",
    "plt.plot([0, 1], [0, 1], color='navy', lw=2, linestyle='--')\n",
    "plt.xlim([0.0, 1.0])\n",
    "plt.ylim([0.0, 1.05])\n",
    "plt.xlabel('False Positive Rate')\n",
    "plt.ylabel('True Positive Rate')\n",
    "plt.title('Receiver operating characteristic (ROC)')\n",
    "plt.legend(loc=\"lower right\")\n",
    "plt.savefig('ROCafib.eps', format='eps')\n",
    "# Precision-Recall curve\n",
    "prec, rec, _ = precision_recall_curve(val_labels, val_preds)\n",
    "\n",
    "plt.figure()\n",
    "plt.plot(prec, rec, color='darkorange', lw=2)\n",
    "plt.xlim([0.0, 1.0])\n",
    "plt.ylim([0.0, 1.05])\n",
    "plt.xlabel('Precision')\n",
    "plt.ylabel('Recall')\n",
    "plt.title('Precision-Recall Curve (PRC)')\n",
    "plt.savefig('PRCafib.eps', format='eps')"
   ]
  },
  {
   "cell_type": "code",
   "execution_count": null,
   "metadata": {},
   "outputs": [
    {
     "name": "stdout",
     "output_type": "stream",
     "text": [
      "#### VALIDATION PERFORMANCE Normal\n",
      "Accuracy: 82.88%\n",
      "Precision (fraction of ECG classified as Normal that are actually Normal): 85.55%\n",
      "Recall (fraction of Normal correctly classified as Normal): 88.81%\n",
      "Fscore (harmonic mean of precision and recall): 87.15%\n"
     ]
    },
    {
     "data": {
      "image/png": "[encoded data removed]",
      "text/plain": [
       "<Figure size 432x288 with 1 Axes>"
      ]
     },
     "metadata": {
      "needs_background": "light"
     },
     "output_type": "display_data"
    },
    {
     "data": {
      "image/png": "[encoded data removed]",
      "text/plain": [
       "<Figure size 432x288 with 1 Axes>"
      ]
     },
     "metadata": {
      "needs_background": "light"
     },
     "output_type": "display_data"
    }
   ],
   "source": [
    "# Get the validation labels\n",
    "val_labels = val_reference_df_Normal['label'].values\n",
    "# Get the network output for the validation set\n",
    "val_preds = model_Normal.predict(val_dataset_Normal, steps=val_steps_Normal)[:len(val_labels)].squeeze()\n",
    "# Get the estimated classes\n",
    "val_est_classes = (val_preds > 0.5).astype(int)\n",
    "\n",
    "# Evaluate accuracy\n",
    "accuracy = accuracy_score(val_labels, val_est_classes)\n",
    "\n",
    "# Evaluate precision, recall and fscore\n",
    "precision, recall, fscore, _ = precision_recall_fscore_support(val_labels, val_est_classes, average='binary')\n",
    "\n",
    "print('#### VALIDATION PERFORMANCE Normal')\n",
    "print('Accuracy: {:.2f}%'.format(accuracy*100))\n",
    "print('Precision (fraction of ECG classified as Normal that are actually Normal): {:.2f}%'.format(precision*100))\n",
    "print('Recall (fraction of Normal correctly classified as Normal): {:.2f}%'.format(recall*100))\n",
    "print('Fscore (harmonic mean of precision and recall): {:.2f}%'.format(fscore*100))\n",
    "\n",
    "# ROC curve\n",
    "fpr, tpr, _ = roc_curve(val_labels, val_preds)\n",
    "roc_auc = auc(fpr, tpr)\n",
    "\n",
    "plt.figure()\n",
    "plt.plot(fpr, tpr, color='darkorange', lw=2, label='ROC curve (area = %0.2f)' % roc_auc)\n",
    "plt.plot([0, 1], [0, 1], color='navy', lw=2, linestyle='--')\n",
    "plt.xlim([0.0, 1.0])\n",
    "plt.ylim([0.0, 1.05])\n",
    "plt.xlabel('False Positive Rate')\n",
    "plt.ylabel('True Positive Rate')\n",
    "plt.title('Receiver operating characteristic (ROC)')\n",
    "plt.legend(loc=\"lower right\")\n",
    "plt.savefig('ROCnormal.eps', format='eps')\n",
    "\n",
    "# Precision-Recall curve\n",
    "prec, rec, _ = precision_recall_curve(val_labels, val_preds)\n",
    "\n",
    "plt.figure()\n",
    "plt.plot(prec, rec, color='darkorange', lw=2)\n",
    "plt.xlim([0.0, 1.0])\n",
    "plt.ylim([0.0, 1.05])\n",
    "plt.xlabel('Precision')\n",
    "plt.ylabel('Recall')\n",
    "plt.title('Precision-Recall Curve (PRC)')\n",
    "plt.savefig('PRCnormal.eps', format='eps')"
   ]
  },
  {
   "cell_type": "code",
   "execution_count": null,
   "metadata": {},
   "outputs": [
    {
     "name": "stdout",
     "output_type": "stream",
     "text": [
      "#### VALIDATION PERFORMANCE Other\n",
      "Accuracy: 92.58%\n",
      "Precision (fraction of ECG classified as Other that are actually Other): 94.25%\n",
      "Recall (fraction of Other correctly classified as Other): 97.67%\n",
      "Fscore (harmonic mean of precision and recall): 95.93%\n"
     ]
    },
    {
     "data": {
      "image/png": "[encoded data removed]",
      "text/plain": [
       "<Figure size 432x288 with 1 Axes>"
      ]
     },
     "metadata": {
      "needs_background": "light"
     },
     "output_type": "display_data"
    },
    {
     "data": {
      "image/png": "[encoded data removed]",
      "text/plain": [
       "<Figure size 432x288 with 1 Axes>"
      ]
     },
     "metadata": {
      "needs_background": "light"
     },
     "output_type": "display_data"
    }
   ],
   "source": [
    "# Get the validation labels\n",
    "val_labels = val_reference_df_Other['label'].values\n",
    "# Get the network output for the validation set\n",
    "val_preds = model_Other.predict(val_dataset_Other, steps=val_steps_Other)[:len(val_labels)].squeeze()\n",
    "# Get the estimated classes\n",
    "val_est_classes = (val_preds > 0.5).astype(int)\n",
    "\n",
    "# Evaluate accuracy\n",
    "accuracy = accuracy_score(val_labels, val_est_classes)\n",
    "\n",
    "# Evaluate precision, recall and fscore\n",
    "precision, recall, fscore, _ = precision_recall_fscore_support(val_labels, val_est_classes, average='binary')\n",
    "\n",
    "print('#### VALIDATION PERFORMANCE Other')\n",
    "print('Accuracy: {:.2f}%'.format(accuracy*100))\n",
    "print('Precision (fraction of ECG classified as Other that are actually Other): {:.2f}%'.format(precision*100))\n",
    "print('Recall (fraction of Other correctly classified as Other): {:.2f}%'.format(recall*100))\n",
    "print('Fscore (harmonic mean of precision and recall): {:.2f}%'.format(fscore*100))\n",
    "\n",
    "# ROC curve\n",
    "fpr, tpr, _ = roc_curve(val_labels, val_preds)\n",
    "roc_auc = auc(fpr, tpr)\n",
    "\n",
    "plt.figure()\n",
    "plt.plot(fpr, tpr, color='darkorange', lw=2, label='ROC curve (area = %0.2f)' % roc_auc)\n",
    "plt.plot([0, 1], [0, 1], color='navy', lw=2, linestyle='--')\n",
    "plt.xlim([0.0, 1.0])\n",
    "plt.ylim([0.0, 1.05])\n",
    "plt.xlabel('False Positive Rate')\n",
    "plt.ylabel('True Positive Rate')\n",
    "plt.title('Receiver operating characteristic (ROC)')\n",
    "plt.legend(loc=\"lower right\")\n",
    "plt.savefig('ROCother.eps', format='eps')\n",
    "\n",
    "# Precision-Recall curve\n",
    "prec, rec, _ = precision_recall_curve(val_labels, val_preds)\n",
    "\n",
    "plt.figure()\n",
    "plt.plot(prec, rec, color='darkorange', lw=2)\n",
    "plt.xlim([0.0, 1.0])\n",
    "plt.ylim([0.0, 1.05])\n",
    "plt.xlabel('Precision')\n",
    "plt.ylabel('Recall')\n",
    "plt.title('Precision-Recall Curve (PRC)')\n",
    "plt.savefig('PRCother.eps', format='eps')"
   ]
  },
  {
   "cell_type": "markdown",
   "metadata": {},
   "source": [
    "# Final classification\n",
    "We now create our testing dataset and we then proceed to define the cascade classifier for the final and complete classification."
   ]
  },
  {
   "cell_type": "markdown",
   "metadata": {},
   "source": [
    "## Testing dataset creation\n",
    "Here we create our testing dataset as we have done before.  \n",
    "We assign to each label a number from zero to three, just in order to facilitate the process and the calculation of the performances:\n",
    "* N = 0\n",
    "* A = 1\n",
    "* O = 2\n",
    "* ~ = 3"
   ]
  },
  {
   "cell_type": "code",
   "execution_count": null,
   "metadata": {},
   "outputs": [
    {
     "name": "stderr",
     "output_type": "stream",
     "text": [
      "/usr/local/lib/python3.5/dist-packages/ipykernel_launcher.py:2: SettingWithCopyWarning: \n",
      "A value is trying to be set on a copy of a slice from a DataFrame.\n",
      "Try using .loc[row_indexer,col_indexer] = value instead\n",
      "\n",
      "See the caveats in the documentation: http://pandas.pydata.org/pandas-docs/stable/user_guide/indexing.html#returning-a-view-versus-a-copy\n",
      "  \n",
      "/usr/local/lib/python3.5/dist-packages/ipykernel_launcher.py:3: SettingWithCopyWarning: \n",
      "A value is trying to be set on a copy of a slice from a DataFrame.\n",
      "Try using .loc[row_indexer,col_indexer] = value instead\n",
      "\n",
      "See the caveats in the documentation: http://pandas.pydata.org/pandas-docs/stable/user_guide/indexing.html#returning-a-view-versus-a-copy\n",
      "  This is separate from the ipykernel package so we can avoid doing imports until\n",
      "/usr/local/lib/python3.5/dist-packages/ipykernel_launcher.py:4: SettingWithCopyWarning: \n",
      "A value is trying to be set on a copy of a slice from a DataFrame.\n",
      "Try using .loc[row_indexer,col_indexer] = value instead\n",
      "\n",
      "See the caveats in the documentation: http://pandas.pydata.org/pandas-docs/stable/user_guide/indexing.html#returning-a-view-versus-a-copy\n",
      "  after removing the cwd from sys.path.\n",
      "/usr/local/lib/python3.5/dist-packages/ipykernel_launcher.py:5: SettingWithCopyWarning: \n",
      "A value is trying to be set on a copy of a slice from a DataFrame.\n",
      "Try using .loc[row_indexer,col_indexer] = value instead\n",
      "\n",
      "See the caveats in the documentation: http://pandas.pydata.org/pandas-docs/stable/user_guide/indexing.html#returning-a-view-versus-a-copy\n",
      "  \"\"\"\n"
     ]
    }
   ],
   "source": [
    "# Encoding\n",
    "test_reference_df['label'] = test_reference_df['label'].apply(lambda l: 0 if l == 'N' else l)\n",
    "test_reference_df['label'] = test_reference_df['label'].apply(lambda l: 1 if l == 'A' else l)\n",
    "test_reference_df['label'] = test_reference_df['label'].apply(lambda l: 2 if l == 'O' else l)\n",
    "test_reference_df['label'] = test_reference_df['label'].apply(lambda l: 3 if l == '~' else l)\n",
    "\n",
    "# Dataset creation\n",
    "testing_dataset = create_dataset(test_reference_df, \n",
    "                               input_size=input_size, \n",
    "                               center_crop=True, \n",
    "                               batch_size=batch_size, \n",
    "                               shuffle=False,\n",
    "                               cache_file='testing_cache')\n",
    "\n",
    "testing_steps = int(np.ceil(len(test_reference_df)/batch_size))"
   ]
  },
  {
   "cell_type": "markdown",
   "metadata": {},
   "source": [
    "## Classificator\n",
    "Here we define the function that, given the three trained models, returns the final predicted labels.  \n",
    "This is done with the cascade classifier described at the beginning. "
   ]
  },
  {
   "cell_type": "code",
   "execution_count": null,
   "metadata": {},
   "outputs": [],
   "source": [
    "def classificator (model_Afib, model_Normal, model_Other, labels, dataset, data_steps):\n",
    "    \n",
    "    preds_1 = model_Afib.predict(dataset, steps=data_steps)[:len(labels)].squeeze()\n",
    "    class_1 = (preds_1 > 0.5).astype(int)\n",
    "    \n",
    "    preds_2 = model_Normal.predict(dataset, steps=data_steps)[:len(labels)].squeeze()\n",
    "    class_2 = (preds_2 > 0.5).astype(int)\n",
    "    \n",
    "    preds_3 = model_Other.predict(dataset, steps=data_steps)[:len(labels)].squeeze()\n",
    "    class_3 = (preds_3 > 0.5).astype(int)\n",
    "    \n",
    "    est_labels = np.zeros(len(labels))\n",
    "    \n",
    "    for k in range(len(labels)):\n",
    "        if (class_1[k]==1):\n",
    "            est_labels[k] = 1\n",
    "        elif(class_2[k]==1):\n",
    "            est_labels[k] = 0\n",
    "        elif(class_3[k]==1):\n",
    "            est_labels[k] = 2\n",
    "        else:\n",
    "            est_labels[k] = 3\n",
    "        \n",
    "    return est_labels.astype(int)\n"
   ]
  },
  {
   "cell_type": "code",
   "execution_count": null,
   "metadata": {},
   "outputs": [],
   "source": [
    "true_labels = test_reference_df['label'].values\n",
    "estimated_labels = classificator(model_Afib, model_Normal, model_Other, true_labels, testing_dataset, testing_steps)"
   ]
  },
  {
   "cell_type": "markdown",
   "metadata": {},
   "source": [
    "## Overall performances\n",
    "\n",
    "Here we compute the final performances of our model.  \n",
    "We decided to look at the usual performance metrics: precision, recall, fscore and accuracy."
   ]
  },
  {
   "cell_type": "code",
   "execution_count": null,
   "metadata": {},
   "outputs": [
    {
     "name": "stdout",
     "output_type": "stream",
     "text": [
      "#### TESTING PERFORMANCE\n",
      "Accuracy: 80.01%\n",
      "Precision:  [85.5399061  80.83333333 69.55602537 58.33333333]\n",
      "Recall:     [89.75369458 63.81578947 68.11594203 50.        ]\n",
      "Fscore:     [87.59615385 71.32352941 68.82845188 53.84615385]\n"
     ]
    }
   ],
   "source": [
    "# Evaluate accuracy\n",
    "accuracy = accuracy_score(true_labels, estimated_labels)\n",
    "\n",
    "# Evaluate precision, recall and fscore\n",
    "precision, recall, fscore, _ = precision_recall_fscore_support(true_labels, estimated_labels, average=None)\n",
    "\n",
    "print('#### TESTING PERFORMANCE')\n",
    "print('Accuracy: {:.2f}%'.format(accuracy*100))\n",
    "print('Precision: ', format(precision*100))\n",
    "print('Recall:    ', format(recall*100))\n",
    "print('Fscore:    ', format(fscore*100))"
   ]
  },
  {
   "cell_type": "markdown",
   "metadata": {},
   "source": [
    "## F1 score\n",
    "\n",
    "As the last overall performance metric we computed the total F1 score.  \n",
    "We used it to compare our work with the others from the 2017 PhysioNet challenge.\n",
    "As there were two different definitions of the value, we computed both of them.  \n",
    "\n",
    "The first one considers the scores of all the four classes:  \n",
    "![equation](photo_2019-09-05_11-34-32.jpg)  \n",
    "The second leaves out the noisy class:  \n",
    "![equation](photo_2019-09-05_11-34-39.jpg)"
   ]
  },
  {
   "cell_type": "code",
   "execution_count": null,
   "metadata": {},
   "outputs": [
    {
     "name": "stdout",
     "output_type": "stream",
     "text": [
      "F1 score with 4 classes:  0.7039857224672939\n",
      "F1 score with 3 classes:  0.7591604504692123\n"
     ]
    }
   ],
   "source": [
    "F1_4 = (fscore[0] + fscore[1] + fscore[2] + fscore[3]) / 4\n",
    "F1_3 = (fscore[0] + fscore[1] + fscore[2]) / 3\n",
    "\n",
    "print('F1 score with 4 classes: ', F1_4)\n",
    "print('F1 score with 3 classes: ', F1_3)"
   ]
  },
  {
   "cell_type": "markdown",
   "metadata": {},
   "source": [
    "## Performances of the single classificators\n",
    "\n",
    "Here we present the performances of the three classificators with the testing dataset.  \n",
    "We see that for the first model the results are similar to the ones obtained for the validation set previously analyzed: this is due to the fact that the dataset in which the testing is performed has the same distribution of samples as the one used for the training.  \n",
    "This is not the case for the other two models: in the testing dataset we have not discarded 'Afib' samples and 'Afib and Normal' samples for the second and third model respectively.  \n",
    "But this does not interfere with the overall results of the classification, as what we are interested in is a good value of the 'recall' metric: this tells us the number of samples of a given label correctly classified as that label, which is the objective of the single models."
   ]
  },
  {
   "cell_type": "code",
   "execution_count": null,
   "metadata": {},
   "outputs": [
    {
     "name": "stdout",
     "output_type": "stream",
     "text": [
      "#### VALIDATION PERFORMANCE Afib\n",
      "Accuracy: 95.55%\n",
      "Precision (fraction of ECG classified as Afib that are actually Afib): 80.65%\n",
      "Recall (fraction of Afib correctly classified as Afib): 65.79%\n",
      "Fscore (harmonic mean of precision and recall): 72.46%\n"
     ]
    }
   ],
   "source": [
    "# Afib results\n",
    "preds_1 = model_Afib.predict(testing_dataset, steps=testing_steps)[:len(true_labels)].squeeze()\n",
    "class_1 = (preds_1 > 0.5).astype(int)\n",
    "    \n",
    "true_labels1 = (true_labels == 1).astype(int)\n",
    "\n",
    "# Evaluate accuracy\n",
    "accuracy = accuracy_score(true_labels1, class_1)\n",
    "\n",
    "# Evaluate precision, recall and fscore\n",
    "precision, recall, fscore, _ = precision_recall_fscore_support(true_labels1, class_1, average='binary')\n",
    "\n",
    "print('#### VALIDATION PERFORMANCE Afib')\n",
    "print('Accuracy: {:.2f}%'.format(accuracy*100))\n",
    "print('Precision (fraction of ECG classified as Afib that are actually Afib): {:.2f}%'.format(precision*100))\n",
    "print('Recall (fraction of Afib correctly classified as Afib): {:.2f}%'.format(recall*100))\n",
    "print('Fscore (harmonic mean of precision and recall): {:.2f}%'.format(fscore*100))"
   ]
  },
  {
   "cell_type": "code",
   "execution_count": null,
   "metadata": {},
   "outputs": [
    {
     "name": "stdout",
     "output_type": "stream",
     "text": [
      "#### VALIDATION PERFORMANCE Normal\n",
      "Accuracy: 84.23%\n",
      "Precision (fraction of ECG classified as Normal that are actually Normal): 84.73%\n",
      "Recall (fraction of Normal correctly classified as Normal): 89.66%\n",
      "Fscore (harmonic mean of precision and recall): 87.12%\n"
     ]
    }
   ],
   "source": [
    "# Normal results\n",
    "preds_2 = model_Normal.predict(testing_dataset, steps=testing_steps)[:len(true_labels)].squeeze()\n",
    "class_2 = (preds_2 > 0.5).astype(int)\n",
    "\n",
    "true_labels2 = (true_labels == 0).astype(int)\n",
    "\n",
    "# Evaluate accuracy\n",
    "accuracy = accuracy_score(true_labels2, class_2)\n",
    "\n",
    "# Evaluate precision, recall and fscore\n",
    "precision, recall, fscore, _ = precision_recall_fscore_support(true_labels2, class_2, average='binary')\n",
    "\n",
    "print('#### VALIDATION PERFORMANCE Normal')\n",
    "print('Accuracy: {:.2f}%'.format(accuracy*100))\n",
    "print('Precision (fraction of ECG classified as Normal that are actually Normal): {:.2f}%'.format(precision*100))\n",
    "print('Recall (fraction of Normal correctly classified as Normal): {:.2f}%'.format(recall*100))\n",
    "print('Fscore (harmonic mean of precision and recall): {:.2f}%'.format(fscore*100))"
   ]
  },
  {
   "cell_type": "code",
   "execution_count": null,
   "metadata": {},
   "outputs": [
    {
     "name": "stdout",
     "output_type": "stream",
     "text": [
      "#### VALIDATION PERFORMANCE Other\n",
      "Accuracy: 31.59%\n",
      "Precision (fraction of ECG classified as Other that are actually Other): 28.94%\n",
      "Recall (fraction of Other correctly classified as Other): 97.31%\n",
      "Fscore (harmonic mean of precision and recall): 44.61%\n"
     ]
    }
   ],
   "source": [
    "# Other results\n",
    "preds_3 = model_Other.predict(testing_dataset, steps=testing_steps)[:len(true_labels)].squeeze()\n",
    "class_3 = (preds_3 > 0.5).astype(int)\n",
    "\n",
    "true_labels3 = (true_labels == 2).astype(int)\n",
    "\n",
    "# Evaluate accuracy\n",
    "accuracy = accuracy_score(true_labels3, class_3)\n",
    "\n",
    "# Evaluate precision, recall and fscore\n",
    "precision, recall, fscore, _ = precision_recall_fscore_support(true_labels3, class_3, average='binary')\n",
    "\n",
    "print('#### VALIDATION PERFORMANCE Other')\n",
    "print('Accuracy: {:.2f}%'.format(accuracy*100))\n",
    "print('Precision (fraction of ECG classified as Other that are actually Other): {:.2f}%'.format(precision*100))\n",
    "print('Recall (fraction of Other correctly classified as Other): {:.2f}%'.format(recall*100))\n",
    "print('Fscore (harmonic mean of precision and recall): {:.2f}%'.format(fscore*100))"
   ]
  },
  {
   "cell_type": "code",
   "execution_count": null,
   "metadata": {},
   "outputs": [],
   "source": []
  }
 ],
 "metadata": {
  "file_extension": ".py",
  "kernelspec": {
   "display_name": "Python 3",
   "language": "python",
   "name": "python3"
  },
  "language_info": {
   "codemirror_mode": {
    "name": "ipython",
    "version": 3
   },
   "file_extension": ".py",
   "mimetype": "text/x-python",
   "name": "python",
   "nbconvert_exporter": "python",
   "pygments_lexer": "ipython3",
   "version": "3.5.3"
  },
  "mimetype": "text/x-python",
  "name": "python",
  "npconvert_exporter": "python",
  "pygments_lexer": "ipython3",
  "version": 3
 },
 "nbformat": 4,
 "nbformat_minor": 2
}
