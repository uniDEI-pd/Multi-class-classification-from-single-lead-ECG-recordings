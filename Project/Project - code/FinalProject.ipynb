{
 "cells": [
  {
   "cell_type": "markdown",
   "metadata": {},
   "source": [
    "# HDA - Final Project\n",
    "## Project #4, ECG classification\n"
   ]
  },
  {
   "cell_type": "code",
   "execution_count": 1,
   "metadata": {},
   "outputs": [],
   "source": [
    "import pandas as pd\n",
    "import tensorflow as tf\n",
    "import numpy as np\n",
    "import sys\n",
    "np.set_printoptions(threshold=sys.maxsize)\n",
    "import time\n",
    "import os\n",
    "import zipfile\n",
    "from scipy.signal import medfilt\n",
    "from tqdm import tqdm\n",
    "from scipy.io import loadmat\n",
    "from pathlib import Path\n",
    "from sklearn.model_selection import train_test_split\n",
    "from sklearn.metrics import precision_recall_fscore_support, roc_curve, auc, accuracy_score, precision_recall_curve\n",
    "import matplotlib.pyplot as plt\n",
    "from sklearn.utils import class_weight\n",
    "\n",
    "import matplotlib as mpl\n",
    "mpl.rcParams['figure.figsize'] = (16,10)\n",
    "mpl.rcParams['axes.grid'] = True\n",
    "mpl.rcParams['legend.fontsize'] = 'large'"
   ]
  },
  {
   "cell_type": "markdown",
   "metadata": {},
   "source": [
    "# Data processing\n",
    "\n",
    "## Extract data from the file"
   ]
  },
  {
   "cell_type": "code",
   "execution_count": 2,
   "metadata": {},
   "outputs": [],
   "source": [
    "\n",
    "# Define the data folder location\n",
    "data_dir = 'data'\n",
    "\n",
    "# Extract data from zip file\n",
    "if not os.path.exists(data_dir):\n",
    "    with zipfile.ZipFile('data.zip', 'r') as f:\n",
    "        f.extractall('.')\n"
   ]
  },
  {
   "cell_type": "markdown",
   "metadata": {},
   "source": [
    "## Create the datasets and import labels\n",
    "\n",
    "Our idea is to create a hierarchical model to classify the single lead ECG recordings.  \n",
    "This is composed by one signle neural network, trained three times with three different datasets.  \n",
    "With the first NN we find the Atrial Fibrillation (Afib) samples. If the samples are not classified as Afib, then they represent the input samples for the second NN, which aims to find the samples that are labelled as Normal.  \n",
    "Again, all the samples that are not Afib or Normal are fed to the last NN, that distinguishes between 'Other' and 'Noisy' samples.\n",
    "\n",
    "In order to do so, we need to create three different datasets:\n",
    "* 'Afib' class (labelled as 1) against all the others (labelled as 0)\n",
    "* 'Normal' class (labelled as 1) against 'Other' and 'Noisy' classes (labelled as 0)\n",
    "* 'Other' class (labelled as 1) against 'Noisy' class (labelled as 0)\n",
    "\n",
    "We divided the original dataset in 'Train' and 'Test' set, leaving 20% of the samples out for the final testing of the results.  \n",
    "The training set is used to create the three aforementioned datasets.  "
   ]
  },
  {
   "cell_type": "code",
   "execution_count": 3,
   "metadata": {},
   "outputs": [
    {
     "name": "stderr",
     "output_type": "stream",
     "text": [
      "/usr/local/lib/python3.5/dist-packages/ipykernel_launcher.py:13: UserWarning: Boolean Series key will be reindexed to match DataFrame index.\n",
      "  del sys.path[0]\n",
      "/usr/local/lib/python3.5/dist-packages/ipykernel_launcher.py:19: UserWarning: Boolean Series key will be reindexed to match DataFrame index.\n"
     ]
    }
   ],
   "source": [
    "\n",
    "# Create a dataframe containing all the files and the labels from the reference file\n",
    "reference_df = pd.read_csv('data/REFERENCE-v3.csv', index_col=0, header=None, names=['label'])\n",
    "train_reference_df, test_reference_df = train_test_split(reference_df, test_size=0.2, stratify=reference_df['label'], random_state=123)\n",
    "\n",
    "# Replace 'A' with 1 and others with 0\n",
    "reference_df_Afib = train_reference_df.copy()\n",
    "reference_df_Afib['label'] = reference_df_Afib['label'].apply(lambda l: 1 if l == 'A' else 0)\n",
    "\n",
    "# Just consider the 'N' class against 'O' and '~'\n",
    "mask_Normal = (reference_df['label'] == 'N') | (reference_df['label'] == 'O') | (reference_df['label'] == '~')\n",
    "reference_df_Normal = train_reference_df.copy()\n",
    "reference_df_Normal = reference_df_Normal[mask_Normal]\n",
    "reference_df_Normal['label'] = reference_df_Normal['label'].apply(lambda l: 1 if l == 'N' else 0)\n",
    "\n",
    "# Just consider the 'O' class against '~'\n",
    "mask_Other = (reference_df['label'] == 'O') | (reference_df['label'] == '~')\n",
    "reference_df_Other = train_reference_df.copy()\n",
    "reference_df_Other = reference_df_Other[mask_Other]\n",
    "reference_df_Other['label'] = reference_df_Other['label'].apply(lambda l: 1 if l == 'O' else 0)"
   ]
  },
  {
   "cell_type": "markdown",
   "metadata": {},
   "source": [
    " ## Create train and validation sets\n",
    "\n",
    "Here we further divide the three datasets in 'Train' and 'Validation' set, which will be used to train and evaluate the performances of the three NN.  \n",
    "We also compute the class weights, that will be used to balance the differences in the number of samples for the two classes of the datasets."
   ]
  },
  {
   "cell_type": "code",
   "execution_count": 4,
   "metadata": {},
   "outputs": [
    {
     "name": "stdout",
     "output_type": "stream",
     "text": [
      "### Afib DATASET\n",
      "### TRAIN SET\n",
      "\tAfib ECG: 485 (8.89%)\n",
      "\tRemain ECG: 4972 (91.11%)\n",
      "### VALIDATION SET\n",
      "\tAfib ECG: 121 (8.86%)\n",
      "\tRemain ECG: 1244 (91.14%)\n",
      "### CLASS WEIGHTS\n",
      "\t [0.54877313 5.6257732 ]\n"
     ]
    }
   ],
   "source": [
    "# Keep 20% of the data out for validation\n",
    "train_reference_df_Afib, val_reference_df_Afib = train_test_split(reference_df_Afib, test_size=0.2, stratify=reference_df_Afib['label'], random_state=123)\n",
    "# Count the elements in the sets\n",
    "num_train_data_Afib = sum(train_reference_df_Afib['label'] == 1)\n",
    "num_train_data_remains_Afib   = sum(train_reference_df_Afib['label'] == 0)\n",
    "num_val_data_Afib  = sum(val_reference_df_Afib['label'] == 1)\n",
    "num_val_data_remains_Afib = sum(val_reference_df_Afib['label'] == 0)\n",
    "\n",
    "weights_Afib = class_weight.compute_class_weight('balanced',\n",
    "                                            np.unique(train_reference_df_Afib['label']),\n",
    "                                            train_reference_df_Afib['label'])\n",
    "\n",
    "print('### Afib DATASET')\n",
    "print('### TRAIN SET')\n",
    "print('\\tAfib ECG: {} ({:.2f}%)'.format(num_train_data_Afib, 100 * num_train_data_Afib / len(train_reference_df_Afib)))\n",
    "print('\\tRemain ECG: {} ({:.2f}%)'.format(num_train_data_remains_Afib, 100 * num_train_data_remains_Afib / len(train_reference_df_Afib)))\n",
    "print('### VALIDATION SET')\n",
    "print('\\tAfib ECG: {} ({:.2f}%)'.format(num_val_data_Afib, 100 * num_val_data_Afib / len(val_reference_df_Afib)))\n",
    "print('\\tRemain ECG: {} ({:.2f}%)'.format(num_val_data_remains_Afib, 100 * num_val_data_remains_Afib / len(val_reference_df_Afib)))\n",
    "print('### CLASS WEIGHTS')\n",
    "print('\\t',weights_Afib)"
   ]
  },
  {
   "cell_type": "code",
   "execution_count": 5,
   "metadata": {},
   "outputs": [
    {
     "name": "stdout",
     "output_type": "stream",
     "text": [
      "### Normal DATASET\n",
      "### TRAIN SET\n",
      "\tNormal ECG: 3248 (65.33%)\n",
      "\tRemain ECG: 1724 (34.67%)\n",
      "### VALIDATION SET\n",
      "\tNormal ECG: 813 (65.35%)\n",
      "\tRemain ECG: 431 (34.65%)\n",
      "### CLASS WEIGHTS\n",
      "\t [1.44199536 0.76539409]\n"
     ]
    }
   ],
   "source": [
    "# Keep 20% of the data out for validation\n",
    "train_reference_df_Normal, val_reference_df_Normal = train_test_split(reference_df_Normal, test_size=0.2, stratify=reference_df_Normal['label'], random_state=123)\n",
    "# Count the elements in the sets\n",
    "num_train_data_Normal = sum(train_reference_df_Normal['label'] == 1)\n",
    "num_train_data_remains_Normal   = sum(train_reference_df_Normal['label'] == 0)\n",
    "num_val_data_Normal  = sum(val_reference_df_Normal['label'] == 1)\n",
    "num_val_data_remains_Normal = sum(val_reference_df_Normal['label'] == 0)\n",
    "\n",
    "weights_Normal = class_weight.compute_class_weight('balanced',\n",
    "                                            np.unique(train_reference_df_Normal['label']),\n",
    "                                            train_reference_df_Normal['label'])\n",
    "\n",
    "print('### Normal DATASET')\n",
    "print('### TRAIN SET')\n",
    "print('\\tNormal ECG: {} ({:.2f}%)'.format(num_train_data_Normal, 100 * num_train_data_Normal / len(train_reference_df_Normal)))\n",
    "print('\\tRemain ECG: {} ({:.2f}%)'.format(num_train_data_remains_Normal, 100 * num_train_data_remains_Normal / len(train_reference_df_Normal)))\n",
    "print('### VALIDATION SET')\n",
    "print('\\tNormal ECG: {} ({:.2f}%)'.format(num_val_data_Normal, 100 * num_val_data_Normal / len(val_reference_df_Normal)))\n",
    "print('\\tRemain ECG: {} ({:.2f}%)'.format(num_val_data_remains_Normal, 100 * num_val_data_remains_Normal / len(val_reference_df_Normal)))\n",
    "print('### CLASS WEIGHTS')\n",
    "print('\\t',weights_Normal)"
   ]
  },
  {
   "cell_type": "code",
   "execution_count": 6,
   "metadata": {},
   "outputs": [
    {
     "name": "stdout",
     "output_type": "stream",
     "text": [
      "### Other DATASET\n",
      "### TRAIN SET\n",
      "\tOther ECG: 1546 (89.68%)\n",
      "\tRemain ECG: 178 (10.32%)\n",
      "### VALIDATION SET\n",
      "\tOther ECG: 386 (89.56%)\n",
      "\tRemain ECG: 45 (10.44%)\n",
      "### CLASS WEIGHTS\n",
      "\t [4.84269663 0.55756792]\n"
     ]
    }
   ],
   "source": [
    "# Keep 20% of the data out for validation\n",
    "train_reference_df_Other, val_reference_df_Other = train_test_split(reference_df_Other, test_size=0.2, stratify=reference_df_Other['label'], random_state=123)\n",
    "# Count the elements in the sets\n",
    "num_train_data_Other = sum(train_reference_df_Other['label'] == 1)\n",
    "num_train_data_remains_Other   = sum(train_reference_df_Other['label'] == 0)\n",
    "num_val_data_Other  = sum(val_reference_df_Other['label'] == 1)\n",
    "num_val_data_remains_Other = sum(val_reference_df_Other['label'] == 0)\n",
    "\n",
    "weights_Other = class_weight.compute_class_weight('balanced',\n",
    "                                            np.unique(train_reference_df_Other['label']),\n",
    "                                            train_reference_df_Other['label'])\n",
    "\n",
    "print('### Other DATASET')\n",
    "print('### TRAIN SET')\n",
    "print('\\tOther ECG: {} ({:.2f}%)'.format(num_train_data_Other, 100 * num_train_data_Other / len(train_reference_df_Other)))\n",
    "print('\\tRemain ECG: {} ({:.2f}%)'.format(num_train_data_remains_Other, 100 * num_train_data_remains_Other / len(train_reference_df_Other)))\n",
    "print('### VALIDATION SET')\n",
    "print('\\tOther ECG: {} ({:.2f}%)'.format(num_val_data_Other, 100 * num_val_data_Other / len(val_reference_df_Other)))\n",
    "print('\\tRemain ECG: {} ({:.2f}%)'.format(num_val_data_remains_Other, 100 * num_val_data_remains_Other / len(val_reference_df_Other)))\n",
    "print('### CLASS WEIGHTS')\n",
    "print('\\t',weights_Other)"
   ]
  },
  {
   "cell_type": "markdown",
   "metadata": {},
   "source": [
    "# Processing functions\n",
    "In this section we define all the utility functions that we will use for the processing of the raw data.\n",
    "## Load data"
   ]
  },
  {
   "cell_type": "code",
   "execution_count": 7,
   "metadata": {},
   "outputs": [],
   "source": [
    "def load_data(file_name, data_dir):\n",
    "    # Load the ECG signal from the .mat file\n",
    "    data = loadmat((Path(data_dir) / (file_name + '.mat')).as_posix())['val']\n",
    "    return data.squeeze()\n"
   ]
  },
  {
   "cell_type": "markdown",
   "metadata": {},
   "source": [
    " ## Preprocessing - Baseline wander removal\n"
   ]
  },
  {
   "cell_type": "code",
   "execution_count": 8,
   "metadata": {},
   "outputs": [],
   "source": [
    "def baseline_wander_removal(data):\n",
    "    # Sampling frequency\n",
    "    fs = 300\n",
    "    # Baseline estimation\n",
    "    win_size = int(np.round(0.2 * fs)) + 1\n",
    "    baseline = medfilt(data, win_size)\n",
    "    win_size = int(np.round(0.6 * fs)) + 1\n",
    "    baseline = medfilt(baseline, win_size)\n",
    "    # Removing baseline\n",
    "    filt_data = data - baseline\n",
    "    return filt_data\n",
    "    "
   ]
  },
  {
   "cell_type": "markdown",
   "metadata": {},
   "source": [
    " ## Preprocessing - Normalization\n"
   ]
  },
  {
   "cell_type": "code",
   "execution_count": 9,
   "metadata": {},
   "outputs": [],
   "source": [
    "\n",
    "def normalize_data(data):\n",
    "    # Amplitude estimate\n",
    "    norm_factor = np.percentile(data, 99) - np.percentile(data, 5)\n",
    "    return (data / norm_factor)\n",
    "    "
   ]
  },
  {
   "cell_type": "markdown",
   "metadata": {},
   "source": [
    " ## Preprocessing - Random crop\n",
    " \n",
    " We use the 'Random crop' only for the training datasets.  \n",
    " For the validation/test sets the crop is centered in the middle of the signal, in order to perform the validation in the same portion of the signal every time."
   ]
  },
  {
   "cell_type": "code",
   "execution_count": 10,
   "metadata": {},
   "outputs": [],
   "source": [
    "def random_crop(data, target_size=9000, center_crop=False):\n",
    "    N = data.shape[0]\n",
    "    # Return data if correct size\n",
    "    if N == target_size:\n",
    "        return data\n",
    "    # If data is too small, then pad with zeros\n",
    "    if N < target_size:\n",
    "        tot_pads = target_size - N\n",
    "        left_pads = int(np.ceil(tot_pads / 2))\n",
    "        right_pads = int(np.floor(tot_pads / 2))\n",
    "        return np.pad(data, [left_pads, right_pads], mode='constant')\n",
    "    # Random Crop (always centered if center_crop=True)\n",
    "    if center_crop:\n",
    "        from_ = int((N / 2) - (target_size / 2))\n",
    "    else:\n",
    "        from_ = np.random.randint(0, np.floor(N - target_size))\n",
    "    to_ = from_ + target_size\n",
    "    return data[from_:to_]\n"
   ]
  },
  {
   "cell_type": "markdown",
   "metadata": {},
   "source": [
    "## Data loading"
   ]
  },
  {
   "cell_type": "code",
   "execution_count": 11,
   "metadata": {},
   "outputs": [],
   "source": [
    "def load_and_preprocess_data(file_name, data_dir):\n",
    "    # Required by tensorflow (strings are passed as bytes)\n",
    "    if type(file_name) is bytes:\n",
    "        file_name = file_name.decode()\n",
    "        data_dir = data_dir.decode()\n",
    "    # Load data\n",
    "    data = load_data(file_name, data_dir)\n",
    "    # Baseline wander removal\n",
    "    data = baseline_wander_removal(data)\n",
    "    # Normalize\n",
    "    data = normalize_data(data)\n",
    "    return data.astype(np.float32)"
   ]
  },
  {
   "cell_type": "markdown",
   "metadata": {},
   "source": [
    " # Dataset\n",
    " ## Dataset definition\n",
    "We now define a function that creates a dataset object and properly maps all the required processing, using the functions defined in the previous section. "
   ]
  },
  {
   "cell_type": "code",
   "execution_count": 12,
   "metadata": {},
   "outputs": [],
   "source": [
    "def create_dataset(reference_df, input_size, center_crop, batch_size, shuffle, cache_file=None):\n",
    "        \n",
    "    # Convert dataframe to lists\n",
    "    file_names = list(reference_df.index)\n",
    "    labels = reference_df['label']\n",
    "    \n",
    "    # Create a Dataset object\n",
    "    dataset = tf.data.Dataset.from_tensor_slices((file_names, labels))\n",
    "    \n",
    "    # Map the load_and_preprocess_data function\n",
    "    py_func = lambda file_name, label: (tf.py_func(load_and_preprocess_data, [file_name, data_dir], tf.float32), label)\n",
    "    dataset = dataset.map(py_func, num_parallel_calls=os.cpu_count())\n",
    "    \n",
    "    # Cache dataset\n",
    "    if cache_file:\n",
    "        dataset = dataset.cache(cache_file)\n",
    "    \n",
    "    # Shuffle    \n",
    "    if shuffle:\n",
    "        dataset = dataset.shuffle(len(file_names))\n",
    "        \n",
    "    # Repeat the dataset indefinitely\n",
    "    dataset = dataset.repeat()\n",
    "    \n",
    "    # Map the crop function\n",
    "    py_func = lambda data, label: (tf.contrib.framework.py_func(random_crop, [data], output_types=tf.float32, output_shapes=input_size), label)\n",
    "    dataset = dataset.map(py_func)\n",
    "    \n",
    "    # Correct input shape for the network\n",
    "    dataset = dataset.map(lambda data, label: (tf.expand_dims(data, 1), label))\n",
    "    \n",
    "    # Batch\n",
    "    dataset = dataset.batch(batch_size=batch_size)\n",
    "    \n",
    "    # Prefetch\n",
    "    dataset = dataset.prefetch(buffer_size=1)\n",
    "    \n",
    "    return dataset\n",
    "    "
   ]
  },
  {
   "cell_type": "markdown",
   "metadata": {},
   "source": [
    " ## Dataset initialization\n",
    "For all the three datasets we create the 'Train' and 'Validation' sets, with the function defined before.  \n",
    "The 'shuffle' parameter is set to True for the Train set and to False for the Validation; the opposite is done for the 'center_crop' parameter, as explained before. \n",
    "We also define the train and validation steps, required during the NN training."
   ]
  },
  {
   "cell_type": "code",
   "execution_count": 13,
   "metadata": {},
   "outputs": [],
   "source": [
    "input_size = 9000\n",
    "batch_size = 20"
   ]
  },
  {
   "cell_type": "code",
   "execution_count": 14,
   "metadata": {},
   "outputs": [
    {
     "name": "stdout",
     "output_type": "stream",
     "text": [
      "WARNING:tensorflow:From <ipython-input-12-62985c8ccec1>:11: py_func (from tensorflow.python.ops.script_ops) is deprecated and will be removed in a future version.\n",
      "Instructions for updating:\n",
      "tf.py_func is deprecated in TF V2. Instead, use\n",
      "    tf.py_function, which takes a python function which manipulates tf eager\n",
      "    tensors instead of numpy arrays. It's easy to convert a tf eager tensor to\n",
      "    an ndarray (just call tensor.numpy()) but having access to eager tensors\n",
      "    means `tf.py_function`s can use accelerators such as GPUs as well as\n",
      "    being differentiable using a gradient tape.\n",
      "    \n",
      "\n",
      "WARNING: The TensorFlow contrib module will not be included in TensorFlow 2.0.\n",
      "For more information, please see:\n",
      "  * https://github.com/tensorflow/community/blob/master/rfcs/20180907-contrib-sunset.md\n",
      "  * https://github.com/tensorflow/addons\n",
      "If you depend on functionality not listed there, please file an issue.\n",
      "\n"
     ]
    }
   ],
   "source": [
    "# Afib\n",
    "train_dataset_Afib = create_dataset(train_reference_df_Afib, \n",
    "                               input_size=input_size, \n",
    "                               center_crop=False, \n",
    "                               batch_size=batch_size, \n",
    "                               shuffle=True,\n",
    "                               cache_file='train_cache_Afib')\n",
    "\n",
    "val_dataset_Afib = create_dataset(val_reference_df_Afib, \n",
    "                             input_size=input_size, \n",
    "                             center_crop=True, \n",
    "                             batch_size=batch_size, \n",
    "                             shuffle=False,\n",
    "                             cache_file='val_cache_Afib')\n",
    "\n",
    "train_steps_Afib = int(np.ceil(len(train_reference_df_Afib)/batch_size))\n",
    "val_steps_Afib = int(np.ceil(len(val_reference_df_Afib)/batch_size))\n"
   ]
  },
  {
   "cell_type": "code",
   "execution_count": 15,
   "metadata": {},
   "outputs": [],
   "source": [
    "# Normal\n",
    "train_dataset_Normal = create_dataset(train_reference_df_Normal, \n",
    "                               input_size=input_size, \n",
    "                               center_crop=False, \n",
    "                               batch_size=batch_size, \n",
    "                               shuffle=True,\n",
    "                               cache_file='train_cache_Normal')\n",
    "\n",
    "val_dataset_Normal = create_dataset(val_reference_df_Normal, \n",
    "                             input_size=input_size, \n",
    "                             center_crop=True, \n",
    "                             batch_size=batch_size, \n",
    "                             shuffle=False,\n",
    "                             cache_file='val_cache_Normal')\n",
    "\n",
    "train_steps_Normal = int(np.ceil(len(train_reference_df_Normal)/batch_size))\n",
    "val_steps_Normal = int(np.ceil(len(val_reference_df_Normal)/batch_size))\n"
   ]
  },
  {
   "cell_type": "code",
   "execution_count": 16,
   "metadata": {},
   "outputs": [],
   "source": [
    "# Other\n",
    "train_dataset_Other = create_dataset(train_reference_df_Other, \n",
    "                               input_size=input_size, \n",
    "                               center_crop=False, \n",
    "                               batch_size=batch_size, \n",
    "                               shuffle=True,\n",
    "                               cache_file='train_cache_Other')\n",
    "\n",
    "val_dataset_Other = create_dataset(val_reference_df_Other, \n",
    "                             input_size=input_size, \n",
    "                             center_crop=True, \n",
    "                             batch_size=batch_size, \n",
    "                             shuffle=False,\n",
    "                             cache_file='val_cache_Other')\n",
    "\n",
    "train_steps_Other = int(np.ceil(len(train_reference_df_Other)/batch_size))\n",
    "val_steps_Other = int(np.ceil(len(val_reference_df_Other)/batch_size))\n"
   ]
  },
  {
   "cell_type": "markdown",
   "metadata": {},
   "source": [
    "## Cache\n",
    "For all the three datasets we prepare the cache to speed up the next steps of the algorithm.  \n",
    "We can see that the first epoch takes longer to load, but the following ones are considerably faster."
   ]
  },
  {
   "cell_type": "code",
   "execution_count": 17,
   "metadata": {},
   "outputs": [
    {
     "name": "stderr",
     "output_type": "stream",
     "text": [
      "100%|██████████| 3/3 [00:02<00:00,  1.10it/s]\n",
      "100%|██████████| 3/3 [00:00<00:00, 184.61it/s]\n",
      "100%|██████████| 3/3 [00:00<00:00, 245.94it/s]"
     ]
    },
    {
     "name": "stdout",
     "output_type": "stream",
     "text": [
      "EPOCH 1 - Time to load the entire dataset [seconds]: 2.7339024543762207\n",
      "EPOCH 2 - Time to load the entire dataset [seconds]: 0.019646883010864258\n",
      "EPOCH 3 - Time to load the entire dataset [seconds]: 0.017835378646850586\n"
     ]
    },
    {
     "name": "stderr",
     "output_type": "stream",
     "text": [
      "\n"
     ]
    }
   ],
   "source": [
    "# Define an iterator to get data\n",
    "iterator = train_dataset_Afib.make_one_shot_iterator()\n",
    "next_element = iterator.get_next()\n",
    "# Start a new session\n",
    "with tf.Session() as sess:\n",
    "    # Iterate for 3 epochs\n",
    "    for num_epoch in range(3):\n",
    "        # Time the loading time\n",
    "        it = time.time()\n",
    "        for step in tqdm(range(3)):\n",
    "                # Get the next batch of data\n",
    "                data, label = sess.run(next_element)\n",
    "        # Print loading time\n",
    "        print('EPOCH {} - Time to load the entire dataset [seconds]: {}'.format(num_epoch+1, time.time() - it))"
   ]
  },
  {
   "cell_type": "code",
   "execution_count": 18,
   "metadata": {},
   "outputs": [
    {
     "name": "stderr",
     "output_type": "stream",
     "text": [
      "100%|██████████| 3/3 [00:01<00:00,  1.97it/s]\n",
      "100%|██████████| 3/3 [00:00<00:00, 205.75it/s]\n",
      "100%|██████████| 3/3 [00:00<00:00, 260.28it/s]"
     ]
    },
    {
     "name": "stdout",
     "output_type": "stream",
     "text": [
      "EPOCH 1 - Time to load the entire dataset [seconds]: 1.528472900390625\n",
      "EPOCH 2 - Time to load the entire dataset [seconds]: 0.018021106719970703\n",
      "EPOCH 3 - Time to load the entire dataset [seconds]: 0.01629042625427246\n"
     ]
    },
    {
     "name": "stderr",
     "output_type": "stream",
     "text": [
      "\n"
     ]
    }
   ],
   "source": [
    "# Define an iterator to get data\n",
    "iterator = train_dataset_Normal.make_one_shot_iterator()\n",
    "next_element = iterator.get_next()\n",
    "# Start a new session\n",
    "with tf.Session() as sess:\n",
    "    # Iterate for 3 epochs\n",
    "    for num_epoch in range(3):\n",
    "        # Time the loading time\n",
    "        it = time.time()\n",
    "        for step in tqdm(range(3)):\n",
    "                # Get the next batch of data\n",
    "                data, label = sess.run(next_element)\n",
    "        # Print loading time\n",
    "        print('EPOCH {} - Time to load the entire dataset [seconds]: {}'.format(num_epoch+1, time.time() - it))"
   ]
  },
  {
   "cell_type": "code",
   "execution_count": 19,
   "metadata": {},
   "outputs": [
    {
     "name": "stderr",
     "output_type": "stream",
     "text": [
      "100%|██████████| 3/3 [00:00<00:00,  5.97it/s]\n",
      "100%|██████████| 3/3 [00:00<00:00, 220.22it/s]\n",
      "100%|██████████| 3/3 [00:00<00:00, 157.20it/s]"
     ]
    },
    {
     "name": "stdout",
     "output_type": "stream",
     "text": [
      "EPOCH 1 - Time to load the entire dataset [seconds]: 0.5045361518859863\n",
      "EPOCH 2 - Time to load the entire dataset [seconds]: 0.020093441009521484\n",
      "EPOCH 3 - Time to load the entire dataset [seconds]: 0.022237300872802734\n"
     ]
    },
    {
     "name": "stderr",
     "output_type": "stream",
     "text": [
      "\n"
     ]
    }
   ],
   "source": [
    "# Define an iterator to get data\n",
    "iterator = train_dataset_Other.make_one_shot_iterator()\n",
    "next_element = iterator.get_next()\n",
    "# Start a new session\n",
    "with tf.Session() as sess:\n",
    "    # Iterate for 3 epochs\n",
    "    for num_epoch in range(3):\n",
    "        # Time the loading time\n",
    "        it = time.time()\n",
    "        for step in tqdm(range(3)):\n",
    "                # Get the next batch of data\n",
    "                data, label = sess.run(next_element)\n",
    "        # Print loading time\n",
    "        print('EPOCH {} - Time to load the entire dataset [seconds]: {}'.format(num_epoch+1, time.time() - it))"
   ]
  },
  {
   "cell_type": "markdown",
   "metadata": {},
   "source": [
    " # RNN Model\n",
    "\n",
    " - Input of shape (None, 9000, 1)\n",
    " - Layer 1\n",
    "   - Conv1D with 32 channels, kernel size 9, and stride 4\n",
    "   - Batchnorm\n",
    "   - ReLu\n",
    " - Layer 2\n",
    "   - Conv1D with 64 channels, kernel size 9, and stride 4\n",
    "   - Batchnorm\n",
    "   - ReLu\n",
    " - Layer 3\n",
    "   - Conv1D with 128 channels, kernel size 9, and stride 4\n",
    "   - Batchnorm\n",
    "   - ReLu\n",
    " - Layer 4\n",
    "   - GRU with 128 units\n",
    " - Layer 5\n",
    "   - Dense with 1 output (probability of the input sample to be an Afib)\n"
   ]
  },
  {
   "cell_type": "code",
   "execution_count": 20,
   "metadata": {},
   "outputs": [],
   "source": [
    "def MyModel(input_shape):\n",
    "    \"\"\"\n",
    "    Arguments:\n",
    "    input_shape -- shape of the data of the dataset\n",
    "\n",
    "    Returns:\n",
    "    model -- a tf.keras.Model() instance\n",
    "    \"\"\"\n",
    "    \n",
    "    X_input = tf.keras.Input(input_shape)\n",
    "\n",
    "    # CONV -> Batch Normalization -> ReLU Block applied to X\n",
    "    X = tf.keras.layers.Conv1D(32, 9, strides=4, name='conv0')(X_input)\n",
    "    X = tf.keras.layers.BatchNormalization(axis=2, name='bn0')(X)\n",
    "    X = tf.keras.layers.Activation('relu')(X)\n",
    "    \n",
    "    X = tf.keras.layers.Conv1D(64, 9, strides=4, name='conv1')(X)\n",
    "    X = tf.keras.layers.BatchNormalization(axis=2, name='bn1')(X)\n",
    "    X = tf.keras.layers.Activation('relu')(X)\n",
    "    \n",
    "    X = tf.keras.layers.Conv1D(128, 9, strides=4, name='conv2')(X)\n",
    "    X = tf.keras.layers.BatchNormalization(axis=2, name='bn2')(X)\n",
    "    X = tf.keras.layers.Activation('relu')(X)\n",
    "\n",
    "    # GRU \n",
    "    X = tf.keras.layers.GRU(128, name='gru0')(X)\n",
    "\n",
    "    # FLATTEN X + FULLYCONNECTED\n",
    "    X = tf.keras.layers.Flatten()(X)\n",
    "    X = tf.keras.layers.Dense(1, activation='sigmoid', name='fc')(X)\n",
    "\n",
    "    # Create model. This creates your Keras model instance, you'll use this instance to train/test the model.\n",
    "    model = tf.keras.Model(inputs = X_input, outputs = X, name='MyModel')\n",
    "        \n",
    "    return model"
   ]
  },
  {
   "cell_type": "markdown",
   "metadata": {},
   "source": [
    "## Weighted loss\n",
    "We now define a custom weighted binary crossentropy loss, using the weights computed before for each class."
   ]
  },
  {
   "cell_type": "code",
   "execution_count": 21,
   "metadata": {},
   "outputs": [],
   "source": [
    "def weighted_binary_crossentropy_Afib(y_true, y_pred):\n",
    "    # Calculate the binary crossentropy\n",
    "    b_ce = tf.keras.losses.binary_crossentropy(y_true, y_pred)\n",
    "\n",
    "    # Apply the weights\n",
    "    weight_vector = y_true * weights_Afib[0] + (1. - y_true) * weights_Afib[1]\n",
    "    weighted_b_ce = weight_vector * b_ce\n",
    "\n",
    "    # Return the mean error\n",
    "    return tf.keras.backend.mean(weighted_b_ce)\n"
   ]
  },
  {
   "cell_type": "code",
   "execution_count": 22,
   "metadata": {},
   "outputs": [],
   "source": [
    "def weighted_binary_crossentropy_Normal(y_true, y_pred):\n",
    "    # Calculate the binary crossentropy\n",
    "    b_ce = tf.keras.losses.binary_crossentropy(y_true, y_pred)\n",
    "\n",
    "    # Apply the weights\n",
    "    weight_vector = y_true * weights_Normal[0] + (1. - y_true) * weights_Normal[1]\n",
    "    weighted_b_ce = weight_vector * b_ce\n",
    "\n",
    "    # Return the mean error\n",
    "    return tf.keras.backend.mean(weighted_b_ce)\n"
   ]
  },
  {
   "cell_type": "code",
   "execution_count": 23,
   "metadata": {},
   "outputs": [],
   "source": [
    "def weighted_binary_crossentropy_Other(y_true, y_pred):\n",
    "    # Calculate the binary crossentropy\n",
    "    b_ce = tf.keras.losses.binary_crossentropy(y_true, y_pred)\n",
    "\n",
    "    # Apply the weights\n",
    "    weight_vector = y_true * weights_Other[0] + (1. - y_true) * weights_Other[1]\n",
    "    weighted_b_ce = weight_vector * b_ce\n",
    "\n",
    "    # Return the mean error\n",
    "    return tf.keras.backend.mean(weighted_b_ce)\n"
   ]
  },
  {
   "cell_type": "markdown",
   "metadata": {},
   "source": [
    "## RNN\n",
    "For each dataset we compile the defined model with our custom loss function."
   ]
  },
  {
   "cell_type": "code",
   "execution_count": 24,
   "metadata": {},
   "outputs": [
    {
     "name": "stdout",
     "output_type": "stream",
     "text": [
      "WARNING:tensorflow:From /usr/local/lib/python3.5/dist-packages/tensorflow/python/ops/resource_variable_ops.py:435: colocate_with (from tensorflow.python.framework.ops) is deprecated and will be removed in a future version.\n",
      "Instructions for updating:\n",
      "Colocations handled automatically by placer.\n"
     ]
    }
   ],
   "source": [
    "# Afib model\n",
    "input_shape = (input_size, 1)\n",
    "model_Afib = MyModel(input_shape)\n",
    "\n",
    "model_Afib.compile(optimizer=\"adam\", loss='binary_crossentropy', metrics=[\"accuracy\"])\n"
   ]
  },
  {
   "cell_type": "code",
   "execution_count": 25,
   "metadata": {},
   "outputs": [],
   "source": [
    "# Normal model\n",
    "input_shape = (input_size, 1)\n",
    "model_Normal = MyModel(input_shape)\n",
    "\n",
    "model_Normal.compile(optimizer=\"adam\", loss='binary_crossentropy', metrics=[\"accuracy\"])"
   ]
  },
  {
   "cell_type": "code",
   "execution_count": 26,
   "metadata": {},
   "outputs": [],
   "source": [
    "# Other model\n",
    "input_shape = (input_size, 1)\n",
    "model_Other = MyModel(input_shape)\n",
    "\n",
    "model_Other.compile(optimizer=\"adam\", loss='binary_crossentropy', metrics=[\"accuracy\"])"
   ]
  },
  {
   "cell_type": "markdown",
   "metadata": {},
   "source": [
    "## Training\n",
    "\n",
    "We train the models for 30 epochs: we are limited in the computational power and time, but it appeared to us a good compromise to understand the capabilities of our models.  \n",
    "We then save the models to load them in the future, without trainig them every time."
   ]
  },
  {
   "cell_type": "code",
   "execution_count": 27,
   "metadata": {},
   "outputs": [],
   "source": [
    "# Set the number of epochs\n",
    "num_epochs = 30"
   ]
  },
  {
   "cell_type": "code",
   "execution_count": 29,
   "metadata": {},
   "outputs": [
    {
     "name": "stdout",
     "output_type": "stream",
     "text": [
      "WARNING:tensorflow:From /usr/local/lib/python3.5/dist-packages/tensorflow/python/ops/math_ops.py:3066: to_int32 (from tensorflow.python.ops.math_ops) is deprecated and will be removed in a future version.\n",
      "Instructions for updating:\n",
      "Use tf.cast instead.\n",
      "Epoch 1/30\n",
      "273/273 [==============================] - 102s 373ms/step - loss: 0.3071 - acc: 0.9084 - val_loss: 0.3031 - val_acc: 0.9116\n",
      "Epoch 2/30\n",
      "273/273 [==============================] - 99s 364ms/step - loss: 0.2572 - acc: 0.9132 - val_loss: 0.3137 - val_acc: 0.9094\n",
      "Epoch 3/30\n",
      "273/273 [==============================] - 100s 366ms/step - loss: 0.1909 - acc: 0.9253 - val_loss: 0.1956 - val_acc: 0.9203\n",
      "Epoch 4/30\n",
      "273/273 [==============================] - 101s 370ms/step - loss: 0.1599 - acc: 0.9368 - val_loss: 0.1742 - val_acc: 0.9275\n",
      "Epoch 5/30\n",
      "273/273 [==============================] - 100s 365ms/step - loss: 0.1252 - acc: 0.9516 - val_loss: 0.1633 - val_acc: 0.9355\n",
      "Epoch 6/30\n",
      "273/273 [==============================] - 99s 363ms/step - loss: 0.1118 - acc: 0.9562 - val_loss: 0.1467 - val_acc: 0.9428\n",
      "Epoch 7/30\n",
      "273/273 [==============================] - 99s 364ms/step - loss: 0.0897 - acc: 0.9674 - val_loss: 0.1534 - val_acc: 0.9442\n",
      "Epoch 8/30\n",
      "273/273 [==============================] - 99s 363ms/step - loss: 0.0805 - acc: 0.9685 - val_loss: 0.1294 - val_acc: 0.9507\n",
      "Epoch 9/30\n",
      "273/273 [==============================] - 98s 359ms/step - loss: 0.0653 - acc: 0.9769 - val_loss: 0.1683 - val_acc: 0.9457\n",
      "Epoch 10/30\n",
      "273/273 [==============================] - 98s 359ms/step - loss: 0.0665 - acc: 0.9766 - val_loss: 0.1418 - val_acc: 0.9486\n",
      "Epoch 11/30\n",
      "273/273 [==============================] - 98s 359ms/step - loss: 0.0595 - acc: 0.9793 - val_loss: 0.1454 - val_acc: 0.9536\n",
      "Epoch 12/30\n",
      "273/273 [==============================] - 98s 358ms/step - loss: 0.0511 - acc: 0.9832 - val_loss: 0.1436 - val_acc: 0.9507\n",
      "Epoch 13/30\n",
      "273/273 [==============================] - 98s 358ms/step - loss: 0.0554 - acc: 0.9789 - val_loss: 0.1943 - val_acc: 0.9348\n",
      "Epoch 14/30\n",
      "273/273 [==============================] - 98s 360ms/step - loss: 0.0469 - acc: 0.9832 - val_loss: 0.1528 - val_acc: 0.9558\n",
      "Epoch 15/30\n",
      "273/273 [==============================] - 98s 358ms/step - loss: 0.0388 - acc: 0.9866 - val_loss: 0.1637 - val_acc: 0.9529\n",
      "Epoch 16/30\n",
      "273/273 [==============================] - 98s 358ms/step - loss: 0.0370 - acc: 0.9896 - val_loss: 0.1586 - val_acc: 0.9507\n",
      "Epoch 17/30\n",
      "273/273 [==============================] - 98s 359ms/step - loss: 0.0387 - acc: 0.9872 - val_loss: 0.1506 - val_acc: 0.9594\n",
      "Epoch 18/30\n",
      "273/273 [==============================] - 98s 359ms/step - loss: 0.0392 - acc: 0.9859 - val_loss: 0.1656 - val_acc: 0.9471\n",
      "Epoch 19/30\n",
      "273/273 [==============================] - 98s 360ms/step - loss: 0.0359 - acc: 0.9892 - val_loss: 0.1511 - val_acc: 0.9536\n",
      "Epoch 20/30\n",
      "273/273 [==============================] - 98s 360ms/step - loss: 0.0382 - acc: 0.9874 - val_loss: 0.1450 - val_acc: 0.9551\n",
      "Epoch 21/30\n",
      "273/273 [==============================] - 98s 358ms/step - loss: 0.0252 - acc: 0.9927 - val_loss: 0.1579 - val_acc: 0.9551\n",
      "Epoch 22/30\n",
      "273/273 [==============================] - 98s 359ms/step - loss: 0.0371 - acc: 0.9879 - val_loss: 0.1742 - val_acc: 0.9529\n",
      "Epoch 23/30\n",
      "273/273 [==============================] - 99s 362ms/step - loss: 0.0285 - acc: 0.9894 - val_loss: 0.1918 - val_acc: 0.9543\n",
      "Epoch 24/30\n",
      "273/273 [==============================] - 98s 360ms/step - loss: 0.0326 - acc: 0.9899 - val_loss: 0.2529 - val_acc: 0.9413\n",
      "Epoch 25/30\n",
      "273/273 [==============================] - 98s 358ms/step - loss: 0.0330 - acc: 0.9886 - val_loss: 0.1704 - val_acc: 0.9514\n",
      "Epoch 26/30\n",
      "273/273 [==============================] - 98s 360ms/step - loss: 0.0324 - acc: 0.9897 - val_loss: 0.1835 - val_acc: 0.9493\n",
      "Epoch 27/30\n",
      "273/273 [==============================] - 96s 353ms/step - loss: 0.0286 - acc: 0.9905 - val_loss: 0.1655 - val_acc: 0.9543\n",
      "Epoch 28/30\n",
      "273/273 [==============================] - 97s 355ms/step - loss: 0.0248 - acc: 0.9921 - val_loss: 0.1803 - val_acc: 0.9471\n",
      "Epoch 29/30\n",
      "273/273 [==============================] - 98s 358ms/step - loss: 0.0233 - acc: 0.9921 - val_loss: 0.1620 - val_acc: 0.9601\n",
      "Epoch 30/30\n",
      "273/273 [==============================] - 98s 358ms/step - loss: 0.0193 - acc: 0.9932 - val_loss: 0.1717 - val_acc: 0.9536\n"
     ]
    }
   ],
   "source": [
    "history = model_Afib.fit(train_dataset_Afib, epochs=num_epochs, steps_per_epoch=train_steps_Afib, validation_data=val_dataset_Afib, \n",
    "                    validation_steps=val_steps_Afib)\n",
    "# Save the model\n",
    "model_Afib.save('model_Afib_uni_noW.h5')\n"
   ]
  },
  {
   "cell_type": "code",
   "execution_count": null,
   "metadata": {},
   "outputs": [
    {
     "name": "stdout",
     "output_type": "stream",
     "text": [
      "Epoch 1/30\n",
      "249/249 [==============================] - 95s 383ms/step - loss: 0.6553 - acc: 0.6450 - val_loss: 0.6760 - val_acc: 0.6500\n",
      "Epoch 2/30\n",
      "249/249 [==============================] - 89s 359ms/step - loss: 0.6111 - acc: 0.6751 - val_loss: 0.6324 - val_acc: 0.6468\n",
      "Epoch 3/30\n",
      "249/249 [==============================] - 90s 361ms/step - loss: 0.5384 - acc: 0.7313 - val_loss: 0.5221 - val_acc: 0.7468\n",
      "Epoch 4/30\n",
      "249/249 [==============================] - 90s 361ms/step - loss: 0.4243 - acc: 0.8108 - val_loss: 0.4543 - val_acc: 0.8000\n",
      "Epoch 5/30\n",
      "249/249 [==============================] - 90s 361ms/step - loss: 0.3552 - acc: 0.8498 - val_loss: 0.4500 - val_acc: 0.8151\n",
      "Epoch 6/30\n",
      "249/249 [==============================] - 90s 361ms/step - loss: 0.3200 - acc: 0.8679 - val_loss: 0.4007 - val_acc: 0.8579\n",
      "Epoch 7/30\n",
      "249/249 [==============================] - 90s 360ms/step - loss: 0.2847 - acc: 0.8896 - val_loss: 0.3967 - val_acc: 0.8571\n",
      "Epoch 8/30\n",
      "249/249 [==============================] - 90s 360ms/step - loss: 0.2532 - acc: 0.9032 - val_loss: 0.3951 - val_acc: 0.8532\n",
      "Epoch 9/30\n",
      "249/249 [==============================] - 90s 362ms/step - loss: 0.2380 - acc: 0.9112 - val_loss: 0.4008 - val_acc: 0.8484\n",
      "Epoch 10/30\n",
      "249/249 [==============================] - 90s 362ms/step - loss: 0.2190 - acc: 0.9193 - val_loss: 0.4138 - val_acc: 0.8421\n",
      "Epoch 11/30\n",
      "249/249 [==============================] - 90s 361ms/step - loss: 0.1931 - acc: 0.9297 - val_loss: 0.4423 - val_acc: 0.8373\n",
      "Epoch 12/30\n",
      "249/249 [==============================] - 90s 363ms/step - loss: 0.1818 - acc: 0.9353 - val_loss: 0.4391 - val_acc: 0.8532\n",
      "Epoch 13/30\n",
      "249/249 [==============================] - 92s 369ms/step - loss: 0.1699 - acc: 0.9400 - val_loss: 0.4776 - val_acc: 0.8579\n",
      "Epoch 14/30\n",
      "249/249 [==============================] - 91s 366ms/step - loss: 0.1497 - acc: 0.9506 - val_loss: 0.4877 - val_acc: 0.8452\n",
      "Epoch 15/30\n",
      "249/249 [==============================] - 90s 363ms/step - loss: 0.1477 - acc: 0.9518 - val_loss: 0.4723 - val_acc: 0.8563\n",
      "Epoch 16/30\n",
      "249/249 [==============================] - 91s 363ms/step - loss: 0.1323 - acc: 0.9554 - val_loss: 0.5196 - val_acc: 0.8532\n",
      "Epoch 17/30\n",
      "249/249 [==============================] - 91s 364ms/step - loss: 0.1276 - acc: 0.9574 - val_loss: 0.4696 - val_acc: 0.8540\n",
      "Epoch 18/30\n",
      "249/249 [==============================] - 91s 365ms/step - loss: 0.1254 - acc: 0.9576 - val_loss: 0.5241 - val_acc: 0.8452\n",
      "Epoch 19/30\n",
      "249/249 [==============================] - 91s 365ms/step - loss: 0.1205 - acc: 0.9582 - val_loss: 0.5210 - val_acc: 0.8460\n",
      "Epoch 20/30\n",
      "249/249 [==============================] - 91s 366ms/step - loss: 0.1085 - acc: 0.9624 - val_loss: 0.5922 - val_acc: 0.8468\n",
      "Epoch 21/30\n",
      "249/249 [==============================] - 91s 367ms/step - loss: 0.1241 - acc: 0.9592 - val_loss: 0.5437 - val_acc: 0.8437\n",
      "Epoch 22/30\n",
      "249/249 [==============================] - 91s 367ms/step - loss: 0.1055 - acc: 0.9671 - val_loss: 0.5260 - val_acc: 0.8540\n",
      "Epoch 23/30\n",
      "249/249 [==============================] - 91s 366ms/step - loss: 0.0981 - acc: 0.9713 - val_loss: 0.5419 - val_acc: 0.8603\n",
      "Epoch 24/30\n",
      "249/249 [==============================] - 91s 366ms/step - loss: 0.0973 - acc: 0.9747 - val_loss: 0.5999 - val_acc: 0.8444\n",
      "Epoch 25/30\n",
      "249/249 [==============================] - 91s 366ms/step - loss: 0.0953 - acc: 0.9731 - val_loss: 0.5815 - val_acc: 0.8389\n",
      "Epoch 26/30\n",
      "249/249 [==============================] - 92s 371ms/step - loss: 0.1069 - acc: 0.9687 - val_loss: 0.5449 - val_acc: 0.8508\n",
      "Epoch 27/30\n",
      "249/249 [==============================] - 91s 366ms/step - loss: 0.0959 - acc: 0.9719 - val_loss: 0.5416 - val_acc: 0.8603\n",
      "Epoch 28/30\n",
      "249/249 [==============================] - 90s 363ms/step - loss: 0.0863 - acc: 0.9741 - val_loss: 0.5966 - val_acc: 0.8468\n",
      "Epoch 29/30\n",
      "249/249 [==============================] - 92s 368ms/step - loss: 0.0775 - acc: 0.9767 - val_loss: 0.6786 - val_acc: 0.8508\n",
      "Epoch 30/30\n",
      "249/249 [==============================] - 91s 367ms/step - loss: 0.0917 - acc: 0.9725 - val_loss: 0.5922 - val_acc: 0.8373\n"
     ]
    }
   ],
   "source": [
    "history = model_Normal.fit(train_dataset_Normal, epochs=num_epochs, steps_per_epoch=train_steps_Normal, validation_data=val_dataset_Normal, \n",
    "                    validation_steps=val_steps_Normal)\n",
    "# Save the model\n",
    "model_Normal.save('model_Normal_uni_noW.h5')"
   ]
  },
  {
   "cell_type": "code",
   "execution_count": 28,
   "metadata": {},
   "outputs": [
    {
     "name": "stdout",
     "output_type": "stream",
     "text": [
      "WARNING:tensorflow:From /usr/local/lib/python3.5/dist-packages/tensorflow/python/ops/math_ops.py:3066: to_int32 (from tensorflow.python.ops.math_ops) is deprecated and will be removed in a future version.\n",
      "Instructions for updating:\n",
      "Use tf.cast instead.\n",
      "Epoch 1/30\n",
      "87/87 [==============================] - 34s 387ms/step - loss: 0.2734 - acc: 0.8931 - val_loss: 0.6259 - val_acc: 0.8977\n",
      "Epoch 2/30\n",
      "87/87 [==============================] - 29s 331ms/step - loss: 0.1993 - acc: 0.9011 - val_loss: 0.5804 - val_acc: 0.9068\n",
      "Epoch 3/30\n",
      "87/87 [==============================] - 29s 331ms/step - loss: 0.1662 - acc: 0.9293 - val_loss: 1.0576 - val_acc: 0.1318\n",
      "Epoch 4/30\n",
      "87/87 [==============================] - 29s 329ms/step - loss: 0.1220 - acc: 0.9425 - val_loss: 0.9850 - val_acc: 0.3500\n",
      "Epoch 5/30\n",
      "87/87 [==============================] - 29s 329ms/step - loss: 0.1193 - acc: 0.9506 - val_loss: 0.2378 - val_acc: 0.9227\n",
      "Epoch 6/30\n",
      "87/87 [==============================] - 29s 329ms/step - loss: 0.0867 - acc: 0.9667 - val_loss: 0.2612 - val_acc: 0.8682\n",
      "Epoch 7/30\n",
      "87/87 [==============================] - 29s 330ms/step - loss: 0.0847 - acc: 0.9678 - val_loss: 0.2143 - val_acc: 0.9114\n",
      "Epoch 8/30\n",
      "87/87 [==============================] - 28s 328ms/step - loss: 0.0654 - acc: 0.9741 - val_loss: 0.1977 - val_acc: 0.9205\n",
      "Epoch 9/30\n",
      "87/87 [==============================] - 29s 328ms/step - loss: 0.0536 - acc: 0.9816 - val_loss: 0.2027 - val_acc: 0.9227\n",
      "Epoch 10/30\n",
      "87/87 [==============================] - 28s 327ms/step - loss: 0.0483 - acc: 0.9874 - val_loss: 0.1798 - val_acc: 0.9159\n",
      "Epoch 11/30\n",
      "87/87 [==============================] - 28s 327ms/step - loss: 0.0606 - acc: 0.9776 - val_loss: 0.1946 - val_acc: 0.9295\n",
      "Epoch 12/30\n",
      "87/87 [==============================] - 30s 347ms/step - loss: 0.0492 - acc: 0.9822 - val_loss: 0.2270 - val_acc: 0.9273\n",
      "Epoch 13/30\n",
      "87/87 [==============================] - 31s 354ms/step - loss: 0.0518 - acc: 0.9822 - val_loss: 0.1620 - val_acc: 0.9341\n",
      "Epoch 14/30\n",
      "87/87 [==============================] - 31s 353ms/step - loss: 0.0408 - acc: 0.9902 - val_loss: 0.2135 - val_acc: 0.9273\n",
      "Epoch 15/30\n",
      "87/87 [==============================] - 31s 355ms/step - loss: 0.0298 - acc: 0.9920 - val_loss: 0.2640 - val_acc: 0.9386\n",
      "Epoch 16/30\n",
      "87/87 [==============================] - 31s 354ms/step - loss: 0.0172 - acc: 0.9948 - val_loss: 0.2425 - val_acc: 0.9341\n",
      "Epoch 17/30\n",
      "87/87 [==============================] - 31s 355ms/step - loss: 0.0292 - acc: 0.9920 - val_loss: 0.2320 - val_acc: 0.9455\n",
      "Epoch 18/30\n",
      "87/87 [==============================] - 32s 363ms/step - loss: 0.0476 - acc: 0.9828 - val_loss: 0.1848 - val_acc: 0.9364\n",
      "Epoch 19/30\n",
      "87/87 [==============================] - 30s 347ms/step - loss: 0.0387 - acc: 0.9856 - val_loss: 0.1869 - val_acc: 0.9409\n",
      "Epoch 20/30\n",
      "87/87 [==============================] - 30s 342ms/step - loss: 0.0304 - acc: 0.9897 - val_loss: 0.2448 - val_acc: 0.9182\n",
      "Epoch 21/30\n",
      "87/87 [==============================] - 29s 334ms/step - loss: 0.0346 - acc: 0.9885 - val_loss: 0.2617 - val_acc: 0.9386\n",
      "Epoch 22/30\n",
      "87/87 [==============================] - 29s 329ms/step - loss: 0.0346 - acc: 0.9862 - val_loss: 0.2351 - val_acc: 0.9250\n",
      "Epoch 23/30\n",
      "87/87 [==============================] - 28s 327ms/step - loss: 0.0304 - acc: 0.9891 - val_loss: 0.2769 - val_acc: 0.9318\n",
      "Epoch 24/30\n",
      "87/87 [==============================] - 30s 346ms/step - loss: 0.0313 - acc: 0.9885 - val_loss: 0.2537 - val_acc: 0.9114\n",
      "Epoch 25/30\n",
      "87/87 [==============================] - 30s 345ms/step - loss: 0.0155 - acc: 0.9948 - val_loss: 0.3718 - val_acc: 0.9159\n",
      "Epoch 26/30\n",
      "87/87 [==============================] - 30s 347ms/step - loss: 0.0337 - acc: 0.9851 - val_loss: 0.2899 - val_acc: 0.9159\n",
      "Epoch 27/30\n",
      "87/87 [==============================] - 32s 362ms/step - loss: 0.0234 - acc: 0.9908 - val_loss: 0.2192 - val_acc: 0.9295\n",
      "Epoch 28/30\n",
      "87/87 [==============================] - 31s 357ms/step - loss: 0.0184 - acc: 0.9954 - val_loss: 0.2262 - val_acc: 0.9364\n",
      "Epoch 29/30\n",
      "87/87 [==============================] - 30s 346ms/step - loss: 0.0183 - acc: 0.9943 - val_loss: 0.2676 - val_acc: 0.9250\n",
      "Epoch 30/30\n",
      "87/87 [==============================] - 30s 346ms/step - loss: 0.0153 - acc: 0.9948 - val_loss: 0.2700 - val_acc: 0.9227\n"
     ]
    }
   ],
   "source": [
    "history = model_Other.fit(train_dataset_Other, epochs=num_epochs, steps_per_epoch=train_steps_Other, validation_data=val_dataset_Other, \n",
    "                    validation_steps=val_steps_Other)\n",
    "# Save the model\n",
    "model_Other.save('model_Other_uni_noW.h5')"
   ]
  },
  {
   "cell_type": "markdown",
   "metadata": {},
   "source": [
    "## Model loading\n",
    "Here we load the saved trained models."
   ]
  },
  {
   "cell_type": "code",
   "execution_count": 28,
   "metadata": {},
   "outputs": [
    {
     "name": "stdout",
     "output_type": "stream",
     "text": [
      "WARNING:tensorflow:From /usr/local/lib/python3.5/dist-packages/tensorflow/python/ops/math_ops.py:3066: to_int32 (from tensorflow.python.ops.math_ops) is deprecated and will be removed in a future version.\n",
      "Instructions for updating:\n",
      "Use tf.cast instead.\n"
     ]
    }
   ],
   "source": [
    "# Load the models\n",
    "model_Afib = tf.keras.models.load_model('model_Afib_uni_noW.h5')\n",
    "\n",
    "model_Normal = tf.keras.models.load_model('model_Normal_uni_noW.h5')\n",
    "\n",
    "model_Other = tf.keras.models.load_model('model_Other_uni_noW.h5')"
   ]
  },
  {
   "cell_type": "markdown",
   "metadata": {},
   "source": [
    "## Validation results\n",
    "\n",
    "We now compute some metrics to check the quality for every single model, before using them for the final cascade classification."
   ]
  },
  {
   "cell_type": "code",
   "execution_count": 40,
   "metadata": {},
   "outputs": [
    {
     "name": "stdout",
     "output_type": "stream",
     "text": [
      "#### VALIDATION PERFORMANCE Afib\n",
      "Accuracy: 95.16%\n",
      "Precision (fraction of ECG classified as Afib that are actually Afib): 72.00%\n",
      "Recall (fraction of Afib correctly classified as Afib): 74.38%\n",
      "Fscore (harmonic mean of precision and recall): 73.17%\n"
     ]
    },
    {
     "data": {
      "image/png": "[encoded data removed]",
      "text/plain": [
       "<Figure size 432x288 with 1 Axes>"
      ]
     },
     "metadata": {
      "needs_background": "light"
     },
     "output_type": "display_data"
    },
    {
     "data": {
      "image/png": "[encoded data removed]",
      "text/plain": [
       "<Figure size 432x288 with 1 Axes>"
      ]
     },
     "metadata": {
      "needs_background": "light"
     },
     "output_type": "display_data"
    }
   ],
   "source": [
    "# Get the validation labels\n",
    "val_labels = val_reference_df_Afib['label'].values\n",
    "# Get the network output for the validation set\n",
    "val_preds = model_Afib.predict(val_dataset_Afib, steps=val_steps_Afib)[:len(val_labels)].squeeze()\n",
    "# Get the estimated classes\n",
    "val_est_classes = (val_preds > 0.5).astype(int)\n",
    "\n",
    "# Evaluate accuracy\n",
    "accuracy = accuracy_score(val_labels, val_est_classes)\n",
    "\n",
    "# Evaluate precision, recall and fscore\n",
    "precision, recall, fscore, _ = precision_recall_fscore_support(val_labels, val_est_classes, average='binary')\n",
    "\n",
    "print('#### VALIDATION PERFORMANCE Afib')\n",
    "print('Accuracy: {:.2f}%'.format(accuracy*100))\n",
    "print('Precision (fraction of ECG classified as Afib that are actually Afib): {:.2f}%'.format(precision*100))\n",
    "print('Recall (fraction of Afib correctly classified as Afib): {:.2f}%'.format(recall*100))\n",
    "print('Fscore (harmonic mean of precision and recall): {:.2f}%'.format(fscore*100))\n",
    "\n",
    "# ROC curve\n",
    "fpr, tpr, _ = roc_curve(val_labels, val_preds)\n",
    "roc_auc = auc(fpr, tpr)\n",
    "\n",
    "plt.figure()\n",
    "plt.plot(fpr, tpr, color='darkorange', lw=2, label='ROC curve (area = %0.2f)' % roc_auc)\n",
    "plt.plot([0, 1], [0, 1], color='navy', lw=2, linestyle='--')\n",
    "plt.xlim([0.0, 1.0])\n",
    "plt.ylim([0.0, 1.05])\n",
    "plt.xlabel('False Positive Rate')\n",
    "plt.ylabel('True Positive Rate')\n",
    "plt.title('Receiver operating characteristic (ROC)')\n",
    "plt.legend(loc=\"lower right\")\n",
    "plt.savefig('ROC_Afib_FinalProjBrex_noWeight.eps', format='eps')\n",
    "\n",
    "# Precision-Recall curve\n",
    "prec, rec, _ = precision_recall_curve(val_labels, val_preds)\n",
    "\n",
    "plt.figure()\n",
    "plt.plot(prec, rec, color='darkorange', lw=2)\n",
    "plt.xlim([0.0, 1.0])\n",
    "plt.ylim([0.0, 1.05])\n",
    "plt.xlabel('Precision')\n",
    "plt.ylabel('Recall')\n",
    "plt.title('Precision-Recall Curve (PRC)')\n",
    "plt.savefig('PRC_Afib_FinalProjBrex_noWeight.eps', format='eps')"
   ]
  },
  {
   "cell_type": "code",
   "execution_count": 41,
   "metadata": {},
   "outputs": [
    {
     "name": "stdout",
     "output_type": "stream",
     "text": [
      "#### VALIDATION PERFORMANCE Normal\n",
      "Accuracy: 84.24%\n",
      "Precision (fraction of ECG classified as Normal that are actually Normal): 85.58%\n",
      "Recall (fraction of Normal correctly classified as Normal): 91.27%\n",
      "Fscore (harmonic mean of precision and recall): 88.33%\n"
     ]
    },
    {
     "data": {
      "image/png": "[encoded data removed]",
      "text/plain": [
       "<Figure size 432x288 with 1 Axes>"
      ]
     },
     "metadata": {
      "needs_background": "light"
     },
     "output_type": "display_data"
    },
    {
     "data": {
      "image/png": "[encoded data removed]",
      "text/plain": [
       "<Figure size 432x288 with 1 Axes>"
      ]
     },
     "metadata": {
      "needs_background": "light"
     },
     "output_type": "display_data"
    }
   ],
   "source": [
    "# Get the validation labels\n",
    "val_labels = val_reference_df_Normal['label'].values\n",
    "# Get the network output for the validation set\n",
    "val_preds = model_Normal.predict(val_dataset_Normal, steps=val_steps_Normal)[:len(val_labels)].squeeze()\n",
    "# Get the estimated classes\n",
    "val_est_classes = (val_preds > 0.5).astype(int)\n",
    "\n",
    "# Evaluate accuracy\n",
    "accuracy = accuracy_score(val_labels, val_est_classes)\n",
    "\n",
    "# Evaluate precision, recall and fscore\n",
    "precision, recall, fscore, _ = precision_recall_fscore_support(val_labels, val_est_classes, average='binary')\n",
    "\n",
    "print('#### VALIDATION PERFORMANCE Normal')\n",
    "print('Accuracy: {:.2f}%'.format(accuracy*100))\n",
    "print('Precision (fraction of ECG classified as Normal that are actually Normal): {:.2f}%'.format(precision*100))\n",
    "print('Recall (fraction of Normal correctly classified as Normal): {:.2f}%'.format(recall*100))\n",
    "print('Fscore (harmonic mean of precision and recall): {:.2f}%'.format(fscore*100))\n",
    "\n",
    "# ROC curve\n",
    "fpr, tpr, _ = roc_curve(val_labels, val_preds)\n",
    "roc_auc = auc(fpr, tpr)\n",
    "\n",
    "plt.figure()\n",
    "plt.plot(fpr, tpr, color='darkorange', lw=2, label='ROC curve (area = %0.2f)' % roc_auc)\n",
    "plt.plot([0, 1], [0, 1], color='navy', lw=2, linestyle='--')\n",
    "plt.xlim([0.0, 1.0])\n",
    "plt.ylim([0.0, 1.05])\n",
    "plt.xlabel('False Positive Rate')\n",
    "plt.ylabel('True Positive Rate')\n",
    "plt.title('Receiver operating characteristic (ROC)')\n",
    "plt.legend(loc=\"lower right\")\n",
    "plt.savefig('ROC_Normal_FinalProjBrex_noWeight.eps', format='eps')\n",
    "# Precision-Recall curve\n",
    "prec, rec, _ = precision_recall_curve(val_labels, val_preds)\n",
    "\n",
    "plt.figure()\n",
    "plt.plot(prec, rec, color='darkorange', lw=2)\n",
    "plt.xlim([0.0, 1.0])\n",
    "plt.ylim([0.0, 1.05])\n",
    "plt.xlabel('Precision')\n",
    "plt.ylabel('Recall')\n",
    "plt.title('Precision-Recall Curve (PRC)')\n",
    "plt.savefig('PRC_Normal_FinalProjBrex_noWeight.eps', format='eps')"
   ]
  },
  {
   "cell_type": "code",
   "execution_count": 42,
   "metadata": {},
   "outputs": [
    {
     "name": "stdout",
     "output_type": "stream",
     "text": [
      "#### VALIDATION PERFORMANCE Other\n",
      "Accuracy: 92.34%\n",
      "Precision (fraction of ECG classified as Other that are actually Other): 94.91%\n",
      "Recall (fraction of Other correctly classified as Other): 96.63%\n",
      "Fscore (harmonic mean of precision and recall): 95.76%\n"
     ]
    },
    {
     "data": {
      "image/png": "[encoded data removed]",
      "text/plain": [
       "<Figure size 432x288 with 1 Axes>"
      ]
     },
     "metadata": {
      "needs_background": "light"
     },
     "output_type": "display_data"
    },
    {
     "data": {
      "image/png": "[encoded data removed]",
      "text/plain": [
       "<Figure size 432x288 with 1 Axes>"
      ]
     },
     "metadata": {
      "needs_background": "light"
     },
     "output_type": "display_data"
    }
   ],
   "source": [
    "# Get the validation labels\n",
    "val_labels = val_reference_df_Other['label'].values\n",
    "# Get the network output for the validation set\n",
    "val_preds = model_Other.predict(val_dataset_Other, steps=val_steps_Other)[:len(val_labels)].squeeze()\n",
    "# Get the estimated classes\n",
    "val_est_classes = (val_preds > 0.5).astype(int)\n",
    "\n",
    "# Evaluate accuracy\n",
    "accuracy = accuracy_score(val_labels, val_est_classes)\n",
    "\n",
    "# Evaluate precision, recall and fscore\n",
    "precision, recall, fscore, _ = precision_recall_fscore_support(val_labels, val_est_classes, average='binary')\n",
    "\n",
    "print('#### VALIDATION PERFORMANCE Other')\n",
    "print('Accuracy: {:.2f}%'.format(accuracy*100))\n",
    "print('Precision (fraction of ECG classified as Other that are actually Other): {:.2f}%'.format(precision*100))\n",
    "print('Recall (fraction of Other correctly classified as Other): {:.2f}%'.format(recall*100))\n",
    "print('Fscore (harmonic mean of precision and recall): {:.2f}%'.format(fscore*100))\n",
    "\n",
    "# ROC curve\n",
    "fpr, tpr, _ = roc_curve(val_labels, val_preds)\n",
    "roc_auc = auc(fpr, tpr)\n",
    "\n",
    "plt.figure()\n",
    "plt.plot(fpr, tpr, color='darkorange', lw=2, label='ROC curve (area = %0.2f)' % roc_auc)\n",
    "plt.plot([0, 1], [0, 1], color='navy', lw=2, linestyle='--')\n",
    "plt.xlim([0.0, 1.0])\n",
    "plt.ylim([0.0, 1.05])\n",
    "plt.xlabel('False Positive Rate')\n",
    "plt.ylabel('True Positive Rate')\n",
    "plt.title('Receiver operating characteristic (ROC)')\n",
    "plt.legend(loc=\"lower right\")\n",
    "plt.savefig('ROC_Other_FinalProjBrex_noWeight.eps', format='eps')\n",
    "\n",
    "# Precision-Recall curve\n",
    "prec, rec, _ = precision_recall_curve(val_labels, val_preds)\n",
    "\n",
    "plt.figure()\n",
    "plt.plot(prec, rec, color='darkorange', lw=2)\n",
    "plt.xlim([0.0, 1.0])\n",
    "plt.ylim([0.0, 1.05])\n",
    "plt.xlabel('Precision')\n",
    "plt.ylabel('Recall')\n",
    "plt.title('Precision-Recall Curve (PRC)')\n",
    "plt.savefig('PRC_Other_FinalProjBrex_noWeight.eps', format='eps')\n"
   ]
  },
  {
   "cell_type": "markdown",
   "metadata": {},
   "source": [
    "# Final classification\n",
    "We now create our testing dataset and we then proceed to define the cascade classifier for the final and complete classification."
   ]
  },
  {
   "cell_type": "markdown",
   "metadata": {},
   "source": [
    "## Testing dataset creation\n",
    "Here we create our testing dataset as we have done before.  \n",
    "We assign to each label a number from zero to three, just in order to facilitate the process and the calculation of the performances:\n",
    "* N = 0\n",
    "* A = 1\n",
    "* O = 2\n",
    "* ~ = 3"
   ]
  },
  {
   "cell_type": "code",
   "execution_count": 43,
   "metadata": {},
   "outputs": [
    {
     "name": "stderr",
     "output_type": "stream",
     "text": [
      "/usr/local/lib/python3.5/dist-packages/ipykernel_launcher.py:2: SettingWithCopyWarning: \n",
      "A value is trying to be set on a copy of a slice from a DataFrame.\n",
      "Try using .loc[row_indexer,col_indexer] = value instead\n",
      "\n",
      "See the caveats in the documentation: http://pandas.pydata.org/pandas-docs/stable/user_guide/indexing.html#returning-a-view-versus-a-copy\n",
      "  \n",
      "/usr/local/lib/python3.5/dist-packages/ipykernel_launcher.py:3: SettingWithCopyWarning: \n",
      "A value is trying to be set on a copy of a slice from a DataFrame.\n",
      "Try using .loc[row_indexer,col_indexer] = value instead\n",
      "\n",
      "See the caveats in the documentation: http://pandas.pydata.org/pandas-docs/stable/user_guide/indexing.html#returning-a-view-versus-a-copy\n",
      "  This is separate from the ipykernel package so we can avoid doing imports until\n",
      "/usr/local/lib/python3.5/dist-packages/ipykernel_launcher.py:4: SettingWithCopyWarning: \n",
      "A value is trying to be set on a copy of a slice from a DataFrame.\n",
      "Try using .loc[row_indexer,col_indexer] = value instead\n",
      "\n",
      "See the caveats in the documentation: http://pandas.pydata.org/pandas-docs/stable/user_guide/indexing.html#returning-a-view-versus-a-copy\n",
      "  after removing the cwd from sys.path.\n",
      "/usr/local/lib/python3.5/dist-packages/ipykernel_launcher.py:5: SettingWithCopyWarning: \n",
      "A value is trying to be set on a copy of a slice from a DataFrame.\n",
      "Try using .loc[row_indexer,col_indexer] = value instead\n",
      "\n",
      "See the caveats in the documentation: http://pandas.pydata.org/pandas-docs/stable/user_guide/indexing.html#returning-a-view-versus-a-copy\n",
      "  \"\"\"\n"
     ]
    }
   ],
   "source": [
    "# Encoding\n",
    "test_reference_df['label'] = test_reference_df['label'].apply(lambda l: 0 if l == 'N' else l)\n",
    "test_reference_df['label'] = test_reference_df['label'].apply(lambda l: 1 if l == 'A' else l)\n",
    "test_reference_df['label'] = test_reference_df['label'].apply(lambda l: 2 if l == 'O' else l)\n",
    "test_reference_df['label'] = test_reference_df['label'].apply(lambda l: 3 if l == '~' else l)\n",
    "\n",
    "# Dataset creation\n",
    "testing_dataset = create_dataset(test_reference_df, \n",
    "                               input_size=input_size, \n",
    "                               center_crop=True, \n",
    "                               batch_size=batch_size, \n",
    "                               shuffle=False,\n",
    "                               cache_file='testing_cache')\n",
    "\n",
    "testing_steps = int(np.ceil(len(test_reference_df)/batch_size))"
   ]
  },
  {
   "cell_type": "markdown",
   "metadata": {},
   "source": [
    "## Classificator\n",
    "Here we define the function that, given the three trained models, returns the final predicted labels.  \n",
    "This is done with the cascade classifier described at the beginning. "
   ]
  },
  {
   "cell_type": "code",
   "execution_count": 44,
   "metadata": {},
   "outputs": [],
   "source": [
    "def classificator (model_Afib, model_Normal, model_Other, labels, dataset, data_steps):\n",
    "    \n",
    "    preds_1 = model_Afib.predict(dataset, steps=data_steps)[:len(labels)].squeeze()\n",
    "    class_1 = (preds_1 > 0.5).astype(int)\n",
    "    \n",
    "    preds_2 = model_Normal.predict(dataset, steps=data_steps)[:len(labels)].squeeze()\n",
    "    class_2 = (preds_2 > 0.5).astype(int)\n",
    "    \n",
    "    preds_3 = model_Other.predict(dataset, steps=data_steps)[:len(labels)].squeeze()\n",
    "    class_3 = (preds_3 > 0.5).astype(int)\n",
    "    \n",
    "    est_labels = np.zeros(len(labels))\n",
    "    \n",
    "    for k in range(len(labels)):\n",
    "        if (class_1[k]==1):\n",
    "            est_labels[k] = 1\n",
    "        elif(class_2[k]==1):\n",
    "            est_labels[k] = 0\n",
    "        elif(class_3[k]==1):\n",
    "            est_labels[k] = 2\n",
    "        else:\n",
    "            est_labels[k] = 3\n",
    "        \n",
    "    return est_labels.astype(int)\n"
   ]
  },
  {
   "cell_type": "code",
   "execution_count": 45,
   "metadata": {},
   "outputs": [],
   "source": [
    "true_labels = test_reference_df['label'].values\n",
    "estimated_labels = classificator(model_Afib, model_Normal, model_Other, true_labels, testing_dataset, testing_steps)"
   ]
  },
  {
   "cell_type": "markdown",
   "metadata": {},
   "source": [
    "## Overall performances\n",
    "\n",
    "Here we compute the final performances of our model.  \n",
    "We decided to look at the usual performance metrics: precision, recall, fscore and accuracy."
   ]
  },
  {
   "cell_type": "code",
   "execution_count": 46,
   "metadata": {},
   "outputs": [
    {
     "name": "stdout",
     "output_type": "stream",
     "text": [
      "#### TESTING PERFORMANCE\n",
      "Accuracy: 81.18%\n",
      "Precision:  [85.27272727 70.70063694 76.73267327 57.77777778]\n",
      "Recall:     [92.4137931  73.02631579 64.18219462 46.42857143]\n",
      "Fscore:     [88.69976359 71.84466019 69.89853439 51.48514851]\n"
     ]
    }
   ],
   "source": [
    "# Evaluate accuracy\n",
    "accuracy = accuracy_score(true_labels, estimated_labels)\n",
    "\n",
    "# Evaluate precision, recall and fscore\n",
    "precision, recall, fscore, _ = precision_recall_fscore_support(true_labels, estimated_labels, average=None)\n",
    "\n",
    "print('#### TESTING PERFORMANCE')\n",
    "print('Accuracy: {:.2f}%'.format(accuracy*100))\n",
    "print('Precision: ', format(precision*100))\n",
    "print('Recall:    ', format(recall*100))\n",
    "print('Fscore:    ', format(fscore*100))"
   ]
  },
  {
   "cell_type": "markdown",
   "metadata": {},
   "source": [
    "## F1 score\n",
    "\n",
    "As the last overall performance metric we computed the total F1 score.  \n",
    "We used it to compare our work with the others from the 2017 PhysioNet challenge.\n",
    "As there were two different definitions of the value, we computed both of them.  \n",
    "\n",
    "The first one considers the scores of all the four classes:  \n",
    "![equation](photo_2019-09-05_11-34-32.jpg)  \n",
    "The second leaves out the noisy class:  \n",
    "![equation](photo_2019-09-05_11-34-39.jpg)"
   ]
  },
  {
   "cell_type": "code",
   "execution_count": 47,
   "metadata": {},
   "outputs": [
    {
     "name": "stdout",
     "output_type": "stream",
     "text": [
      "F1 score with 4 classes:  0.7048202667199405\n",
      "F1 score with 3 classes:  0.7681431939104156\n"
     ]
    }
   ],
   "source": [
    "F1_4 = (fscore[0] + fscore[1] + fscore[2] + fscore[3]) / 4\n",
    "F1_3 = (fscore[0] + fscore[1] + fscore[2]) / 3\n",
    "\n",
    "print('F1 score with 4 classes: ', F1_4)\n",
    "print('F1 score with 3 classes: ', F1_3)"
   ]
  },
  {
   "cell_type": "markdown",
   "metadata": {},
   "source": [
    "## Performances of the single classificators\n",
    "\n",
    "Here we present the performances of the three classificators with the testing dataset.  \n",
    "We see that for the first model the results are similar to the ones obtained for the validation set previously analyzed: this is due to the fact that the dataset in which the testing is performed has the same distribution of samples as the one used for the training.  \n",
    "This is not the case for the other two models: in the testing dataset we have not discarded 'Afib' samples and 'Afib and Normal' samples for the second and third model respectively.  \n",
    "But this does not interfere with the overall results of the classification, as what we are interested in is a good value of the 'recall' metric: this tells us the number of samples of a given label correctly classified as that label, which is the objective of the single models."
   ]
  },
  {
   "cell_type": "code",
   "execution_count": 48,
   "metadata": {},
   "outputs": [
    {
     "name": "stdout",
     "output_type": "stream",
     "text": [
      "#### VALIDATION PERFORMANCE Afib\n",
      "Accuracy: 95.02%\n",
      "Precision (fraction of ECG classified as Afib that are actually Afib): 71.90%\n",
      "Recall (fraction of Afib correctly classified as Afib): 72.37%\n",
      "Fscore (harmonic mean of precision and recall): 72.13%\n"
     ]
    }
   ],
   "source": [
    "# Afib results\n",
    "preds_1 = model_Afib.predict(testing_dataset, steps=testing_steps)[:len(true_labels)].squeeze()\n",
    "class_1 = (preds_1 > 0.5).astype(int)\n",
    "    \n",
    "true_labels1 = (true_labels == 1).astype(int)\n",
    "\n",
    "# Evaluate accuracy\n",
    "accuracy = accuracy_score(true_labels1, class_1)\n",
    "\n",
    "# Evaluate precision, recall and fscore\n",
    "precision, recall, fscore, _ = precision_recall_fscore_support(true_labels1, class_1, average='binary')\n",
    "\n",
    "print('#### VALIDATION PERFORMANCE Afib')\n",
    "print('Accuracy: {:.2f}%'.format(accuracy*100))\n",
    "print('Precision (fraction of ECG classified as Afib that are actually Afib): {:.2f}%'.format(precision*100))\n",
    "print('Recall (fraction of Afib correctly classified as Afib): {:.2f}%'.format(recall*100))\n",
    "print('Fscore (harmonic mean of precision and recall): {:.2f}%'.format(fscore*100))"
   ]
  },
  {
   "cell_type": "code",
   "execution_count": 49,
   "metadata": {},
   "outputs": [
    {
     "name": "stdout",
     "output_type": "stream",
     "text": [
      "#### VALIDATION PERFORMANCE Normal\n",
      "Accuracy: 85.40%\n",
      "Precision (fraction of ECG classified as Normal that are actually Normal): 84.44%\n",
      "Recall (fraction of Normal correctly classified as Normal): 92.51%\n",
      "Fscore (harmonic mean of precision and recall): 88.29%\n"
     ]
    }
   ],
   "source": [
    "# Normal results\n",
    "preds_2 = model_Normal.predict(testing_dataset, steps=testing_steps)[:len(true_labels)].squeeze()\n",
    "class_2 = (preds_2 > 0.5).astype(int)\n",
    "\n",
    "true_labels2 = (true_labels == 0).astype(int)\n",
    "\n",
    "# Evaluate accuracy\n",
    "accuracy = accuracy_score(true_labels2, class_2)\n",
    "\n",
    "# Evaluate precision, recall and fscore\n",
    "precision, recall, fscore, _ = precision_recall_fscore_support(true_labels2, class_2, average='binary')\n",
    "\n",
    "print('#### VALIDATION PERFORMANCE Normal')\n",
    "print('Accuracy: {:.2f}%'.format(accuracy*100))\n",
    "print('Precision (fraction of ECG classified as Normal that are actually Normal): {:.2f}%'.format(precision*100))\n",
    "print('Recall (fraction of Normal correctly classified as Normal): {:.2f}%'.format(recall*100))\n",
    "print('Fscore (harmonic mean of precision and recall): {:.2f}%'.format(fscore*100))"
   ]
  },
  {
   "cell_type": "code",
   "execution_count": 50,
   "metadata": {},
   "outputs": [
    {
     "name": "stdout",
     "output_type": "stream",
     "text": [
      "#### VALIDATION PERFORMANCE Other\n",
      "Accuracy: 32.42%\n",
      "Precision (fraction of ECG classified as Other that are actually Other): 29.17%\n",
      "Recall (fraction of Other correctly classified as Other): 97.10%\n",
      "Fscore (harmonic mean of precision and recall): 44.86%\n"
     ]
    }
   ],
   "source": [
    "# Other results\n",
    "preds_3 = model_Other.predict(testing_dataset, steps=testing_steps)[:len(true_labels)].squeeze()\n",
    "class_3 = (preds_3 > 0.5).astype(int)\n",
    "\n",
    "true_labels3 = (true_labels == 2).astype(int)\n",
    "\n",
    "# Evaluate accuracy\n",
    "accuracy = accuracy_score(true_labels3, class_3)\n",
    "\n",
    "# Evaluate precision, recall and fscore\n",
    "precision, recall, fscore, _ = precision_recall_fscore_support(true_labels3, class_3, average='binary')\n",
    "\n",
    "print('#### VALIDATION PERFORMANCE Other')\n",
    "print('Accuracy: {:.2f}%'.format(accuracy*100))\n",
    "print('Precision (fraction of ECG classified as Other that are actually Other): {:.2f}%'.format(precision*100))\n",
    "print('Recall (fraction of Other correctly classified as Other): {:.2f}%'.format(recall*100))\n",
    "print('Fscore (harmonic mean of precision and recall): {:.2f}%'.format(fscore*100))"
   ]
  },
  {
   "cell_type": "markdown",
   "metadata": {},
   "source": [
    "## RANK\n",
    "\n",
    "Based on the results of the 2017 PhysioNet Challenge, we would have arrived 34th, with the 7th best result :)  "
   ]
  },
  {
   "cell_type": "code",
   "execution_count": null,
   "metadata": {},
   "outputs": [],
   "source": []
  }
 ],
 "metadata": {
  "file_extension": ".py",
  "kernelspec": {
   "display_name": "Python 3",
   "language": "python",
   "name": "python3"
  },
  "language_info": {
   "codemirror_mode": {
    "name": "ipython",
    "version": 3
   },
   "file_extension": ".py",
   "mimetype": "text/x-python",
   "name": "python",
   "nbconvert_exporter": "python",
   "pygments_lexer": "ipython3",
   "version": "3.5.3"
  },
  "mimetype": "text/x-python",
  "name": "python",
  "npconvert_exporter": "python",
  "pygments_lexer": "ipython3",
  "version": 3
 },
 "nbformat": 4,
 "nbformat_minor": 2
}
